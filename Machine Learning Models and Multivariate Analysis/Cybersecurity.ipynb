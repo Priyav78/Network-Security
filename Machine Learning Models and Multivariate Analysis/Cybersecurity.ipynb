{
  "cells": [
    {
      "cell_type": "markdown",
      "id": "244f2df0-52ee-411a-b722-3a9e4a325a6f",
      "metadata": {
        "id": "244f2df0-52ee-411a-b722-3a9e4a325a6f"
      },
      "source": [
        "# Week 9 - Multivariate Analysis, part 2"
      ]
    },
    {
      "cell_type": "markdown",
      "id": "90b37fb7-28ce-4775-b21e-1476e954c41e",
      "metadata": {
        "id": "90b37fb7-28ce-4775-b21e-1476e954c41e"
      },
      "source": [
        "Multivariate Analysis with Cybersecurity Dataset"
      ]
    },
    {
      "cell_type": "code",
      "execution_count": 2,
      "id": "d9bcba9b-e9b3-45a9-ac76-4084b7cb3ab0",
      "metadata": {
        "id": "d9bcba9b-e9b3-45a9-ac76-4084b7cb3ab0"
      },
      "outputs": [],
      "source": [
        "import pandas as pd\n",
        "import numpy as np\n",
        "import seaborn as sns\n",
        "import math\n",
        "import matplotlib.pyplot as plt\n",
        "from datetime import datetime, timedelta\n",
        "from sklearn.preprocessing import OneHotEncoder\n",
        "import os\n",
        "from sklearn import decomposition\n",
        "from sklearn.preprocessing import StandardScaler\n",
        "from sklearn.decomposition import PCA\n",
        "from sklearn.model_selection import train_test_split, RandomizedSearchCV, GridSearchCV\n",
        "from sklearn.linear_model import LogisticRegression\n",
        "from sklearn.svm import SVC\n",
        "from sklearn.tree import DecisionTreeClassifier\n",
        "from sklearn.ensemble import RandomForestClassifier\n",
        "from xgboost import XGBClassifier\n",
        "from sklearn.neighbors import KNeighborsClassifier\n",
        "from sklearn.ensemble import GradientBoostingClassifier\n",
        "from sklearn.metrics import accuracy_score, classification_report, confusion_matrix \n",
        "from sklearn.cluster import KMeans\n",
        "from sklearn.metrics import silhouette_score\n",
        "from scipy.spatial.distance import cdist\n",
        "from sklearn.cluster import DBSCAN, AgglomerativeClustering\n",
        "from scipy.cluster.hierarchy import dendrogram, linkage\n",
        "from scipy.spatial.distance import pdist"
      ]
    },
    {
      "cell_type": "code",
      "execution_count": 3,
      "id": "g8_MwReqsv-W",
      "metadata": {
        "colab": {
          "base_uri": "https://localhost:8080/",
          "height": 714
        },
        "id": "g8_MwReqsv-W",
        "outputId": "f77c9f7b-ac34-4099-bf41-c88e87159f04"
      },
      "outputs": [
        {
          "data": {
            "text/html": [
              "<div>\n",
              "<style scoped>\n",
              "    .dataframe tbody tr th:only-of-type {\n",
              "        vertical-align: middle;\n",
              "    }\n",
              "\n",
              "    .dataframe tbody tr th {\n",
              "        vertical-align: top;\n",
              "    }\n",
              "\n",
              "    .dataframe thead th {\n",
              "        text-align: right;\n",
              "    }\n",
              "</style>\n",
              "<table border=\"1\" class=\"dataframe\">\n",
              "  <thead>\n",
              "    <tr style=\"text-align: right;\">\n",
              "      <th></th>\n",
              "      <th>Timestamp</th>\n",
              "      <th>Source IP Address</th>\n",
              "      <th>Destination IP Address</th>\n",
              "      <th>Source Port</th>\n",
              "      <th>Destination Port</th>\n",
              "      <th>Protocol</th>\n",
              "      <th>Packet Length</th>\n",
              "      <th>Packet Type</th>\n",
              "      <th>Traffic Type</th>\n",
              "      <th>Payload Data</th>\n",
              "      <th>Malware Indicators</th>\n",
              "      <th>Anomaly Scores</th>\n",
              "      <th>Alerts/Warnings</th>\n",
              "      <th>Attack Type</th>\n",
              "      <th>Attack Signature</th>\n",
              "      <th>Action Taken</th>\n",
              "      <th>Severity Level</th>\n",
              "      <th>User Information</th>\n",
              "      <th>Device Information</th>\n",
              "      <th>Network Segment</th>\n",
              "      <th>Geo-location Data</th>\n",
              "      <th>Proxy Information</th>\n",
              "      <th>Firewall Logs</th>\n",
              "      <th>IDS/IPS Alerts</th>\n",
              "      <th>Log Source</th>\n",
              "    </tr>\n",
              "  </thead>\n",
              "  <tbody>\n",
              "    <tr>\n",
              "      <th>0</th>\n",
              "      <td>2023-05-30 06:33:58</td>\n",
              "      <td>103.216.15.12</td>\n",
              "      <td>84.9.164.252</td>\n",
              "      <td>31225</td>\n",
              "      <td>17616</td>\n",
              "      <td>ICMP</td>\n",
              "      <td>503</td>\n",
              "      <td>Data</td>\n",
              "      <td>HTTP</td>\n",
              "      <td>Qui natus odio asperiores nam. Optio nobis ius...</td>\n",
              "      <td>IoC Detected</td>\n",
              "      <td>28.67</td>\n",
              "      <td>Alert Triggered</td>\n",
              "      <td>Malware</td>\n",
              "      <td>Known Pattern B</td>\n",
              "      <td>Logged</td>\n",
              "      <td>Low</td>\n",
              "      <td>Reyansh Dugal</td>\n",
              "      <td>Mozilla/5.0 (compatible; MSIE 8.0; Windows NT ...</td>\n",
              "      <td>Segment A</td>\n",
              "      <td>Jamshedpur, Sikkim</td>\n",
              "      <td>150.9.97.135</td>\n",
              "      <td>Log Data</td>\n",
              "      <td>Alert Data</td>\n",
              "      <td>Server</td>\n",
              "    </tr>\n",
              "    <tr>\n",
              "      <th>1</th>\n",
              "      <td>2020-08-26 07:08:30</td>\n",
              "      <td>78.199.217.198</td>\n",
              "      <td>66.191.137.154</td>\n",
              "      <td>17245</td>\n",
              "      <td>48166</td>\n",
              "      <td>ICMP</td>\n",
              "      <td>1174</td>\n",
              "      <td>Data</td>\n",
              "      <td>HTTP</td>\n",
              "      <td>Aperiam quos modi officiis veritatis rem. Omni...</td>\n",
              "      <td>IoC Detected</td>\n",
              "      <td>51.50</td>\n",
              "      <td>Alert Triggered</td>\n",
              "      <td>Malware</td>\n",
              "      <td>Known Pattern A</td>\n",
              "      <td>Blocked</td>\n",
              "      <td>Low</td>\n",
              "      <td>Sumer Rana</td>\n",
              "      <td>Mozilla/5.0 (compatible; MSIE 8.0; Windows NT ...</td>\n",
              "      <td>Segment B</td>\n",
              "      <td>Bilaspur, Nagaland</td>\n",
              "      <td>39.123.165.122</td>\n",
              "      <td>Log Data</td>\n",
              "      <td>Alert Data</td>\n",
              "      <td>Firewall</td>\n",
              "    </tr>\n",
              "    <tr>\n",
              "      <th>2</th>\n",
              "      <td>2022-11-13 08:23:25</td>\n",
              "      <td>63.79.210.48</td>\n",
              "      <td>198.219.82.17</td>\n",
              "      <td>16811</td>\n",
              "      <td>53600</td>\n",
              "      <td>UDP</td>\n",
              "      <td>306</td>\n",
              "      <td>Control</td>\n",
              "      <td>HTTP</td>\n",
              "      <td>Perferendis sapiente vitae soluta. Hic delectu...</td>\n",
              "      <td>IoC Detected</td>\n",
              "      <td>87.42</td>\n",
              "      <td>Alert Triggered</td>\n",
              "      <td>DDoS</td>\n",
              "      <td>Known Pattern B</td>\n",
              "      <td>Ignored</td>\n",
              "      <td>Low</td>\n",
              "      <td>Himmat Karpe</td>\n",
              "      <td>Mozilla/5.0 (compatible; MSIE 9.0; Windows NT ...</td>\n",
              "      <td>Segment C</td>\n",
              "      <td>Bokaro, Rajasthan</td>\n",
              "      <td>114.133.48.179</td>\n",
              "      <td>Log Data</td>\n",
              "      <td>Alert Data</td>\n",
              "      <td>Firewall</td>\n",
              "    </tr>\n",
              "    <tr>\n",
              "      <th>3</th>\n",
              "      <td>2023-07-02 10:38:46</td>\n",
              "      <td>163.42.196.10</td>\n",
              "      <td>101.228.192.255</td>\n",
              "      <td>20018</td>\n",
              "      <td>32534</td>\n",
              "      <td>UDP</td>\n",
              "      <td>385</td>\n",
              "      <td>Data</td>\n",
              "      <td>HTTP</td>\n",
              "      <td>Totam maxime beatae expedita explicabo porro l...</td>\n",
              "      <td>IoC Detected</td>\n",
              "      <td>15.79</td>\n",
              "      <td>Alert Triggered</td>\n",
              "      <td>Malware</td>\n",
              "      <td>Known Pattern B</td>\n",
              "      <td>Blocked</td>\n",
              "      <td>Medium</td>\n",
              "      <td>Fateh Kibe</td>\n",
              "      <td>Mozilla/5.0 (Macintosh; PPC Mac OS X 10_11_5; ...</td>\n",
              "      <td>Segment B</td>\n",
              "      <td>Jaunpur, Rajasthan</td>\n",
              "      <td>39.123.165.122</td>\n",
              "      <td>Log Data</td>\n",
              "      <td>Alert Data</td>\n",
              "      <td>Firewall</td>\n",
              "    </tr>\n",
              "    <tr>\n",
              "      <th>4</th>\n",
              "      <td>2023-07-16 13:11:07</td>\n",
              "      <td>71.166.185.76</td>\n",
              "      <td>189.243.174.238</td>\n",
              "      <td>6131</td>\n",
              "      <td>26646</td>\n",
              "      <td>TCP</td>\n",
              "      <td>1462</td>\n",
              "      <td>Data</td>\n",
              "      <td>DNS</td>\n",
              "      <td>Odit nesciunt dolorem nisi iste iusto. Animi v...</td>\n",
              "      <td>IoC Detected</td>\n",
              "      <td>0.52</td>\n",
              "      <td>Alert Triggered</td>\n",
              "      <td>DDoS</td>\n",
              "      <td>Known Pattern B</td>\n",
              "      <td>Blocked</td>\n",
              "      <td>Low</td>\n",
              "      <td>Dhanush Chad</td>\n",
              "      <td>Mozilla/5.0 (compatible; MSIE 5.0; Windows NT ...</td>\n",
              "      <td>Segment C</td>\n",
              "      <td>Anantapur, Tripura</td>\n",
              "      <td>149.6.110.119</td>\n",
              "      <td>Log Data</td>\n",
              "      <td>Alert Data</td>\n",
              "      <td>Firewall</td>\n",
              "    </tr>\n",
              "  </tbody>\n",
              "</table>\n",
              "</div>"
            ],
            "text/plain": [
              "             Timestamp Source IP Address Destination IP Address  Source Port  \\\n",
              "0  2023-05-30 06:33:58     103.216.15.12           84.9.164.252        31225   \n",
              "1  2020-08-26 07:08:30    78.199.217.198         66.191.137.154        17245   \n",
              "2  2022-11-13 08:23:25      63.79.210.48          198.219.82.17        16811   \n",
              "3  2023-07-02 10:38:46     163.42.196.10        101.228.192.255        20018   \n",
              "4  2023-07-16 13:11:07     71.166.185.76        189.243.174.238         6131   \n",
              "\n",
              "   Destination Port Protocol  Packet Length Packet Type Traffic Type  \\\n",
              "0             17616     ICMP            503        Data         HTTP   \n",
              "1             48166     ICMP           1174        Data         HTTP   \n",
              "2             53600      UDP            306     Control         HTTP   \n",
              "3             32534      UDP            385        Data         HTTP   \n",
              "4             26646      TCP           1462        Data          DNS   \n",
              "\n",
              "                                        Payload Data Malware Indicators  \\\n",
              "0  Qui natus odio asperiores nam. Optio nobis ius...       IoC Detected   \n",
              "1  Aperiam quos modi officiis veritatis rem. Omni...       IoC Detected   \n",
              "2  Perferendis sapiente vitae soluta. Hic delectu...       IoC Detected   \n",
              "3  Totam maxime beatae expedita explicabo porro l...       IoC Detected   \n",
              "4  Odit nesciunt dolorem nisi iste iusto. Animi v...       IoC Detected   \n",
              "\n",
              "   Anomaly Scores  Alerts/Warnings Attack Type Attack Signature Action Taken  \\\n",
              "0           28.67  Alert Triggered     Malware  Known Pattern B       Logged   \n",
              "1           51.50  Alert Triggered     Malware  Known Pattern A      Blocked   \n",
              "2           87.42  Alert Triggered        DDoS  Known Pattern B      Ignored   \n",
              "3           15.79  Alert Triggered     Malware  Known Pattern B      Blocked   \n",
              "4            0.52  Alert Triggered        DDoS  Known Pattern B      Blocked   \n",
              "\n",
              "  Severity Level User Information  \\\n",
              "0            Low    Reyansh Dugal   \n",
              "1            Low       Sumer Rana   \n",
              "2            Low     Himmat Karpe   \n",
              "3         Medium       Fateh Kibe   \n",
              "4            Low     Dhanush Chad   \n",
              "\n",
              "                                  Device Information Network Segment  \\\n",
              "0  Mozilla/5.0 (compatible; MSIE 8.0; Windows NT ...       Segment A   \n",
              "1  Mozilla/5.0 (compatible; MSIE 8.0; Windows NT ...       Segment B   \n",
              "2  Mozilla/5.0 (compatible; MSIE 9.0; Windows NT ...       Segment C   \n",
              "3  Mozilla/5.0 (Macintosh; PPC Mac OS X 10_11_5; ...       Segment B   \n",
              "4  Mozilla/5.0 (compatible; MSIE 5.0; Windows NT ...       Segment C   \n",
              "\n",
              "    Geo-location Data Proxy Information Firewall Logs IDS/IPS Alerts  \\\n",
              "0  Jamshedpur, Sikkim      150.9.97.135      Log Data     Alert Data   \n",
              "1  Bilaspur, Nagaland    39.123.165.122      Log Data     Alert Data   \n",
              "2   Bokaro, Rajasthan    114.133.48.179      Log Data     Alert Data   \n",
              "3  Jaunpur, Rajasthan    39.123.165.122      Log Data     Alert Data   \n",
              "4  Anantapur, Tripura     149.6.110.119      Log Data     Alert Data   \n",
              "\n",
              "  Log Source  \n",
              "0     Server  \n",
              "1   Firewall  \n",
              "2   Firewall  \n",
              "3   Firewall  \n",
              "4   Firewall  "
            ]
          },
          "execution_count": 3,
          "metadata": {},
          "output_type": "execute_result"
        }
      ],
      "source": [
        "ns = pd.read_csv('/Users/priya/VSCode/Python/Network Security/NetworkSecurity_Cleaned.csv')\n",
        "pd.set_option('display.max_columns', None)\n",
        "ns.head()"
      ]
    },
    {
      "cell_type": "code",
      "execution_count": 4,
      "id": "AeQe3UQV_vDK",
      "metadata": {
        "colab": {
          "base_uri": "https://localhost:8080/"
        },
        "id": "AeQe3UQV_vDK",
        "outputId": "8933e072-48bf-4ec5-b723-d7d9cf1f2f2c"
      },
      "outputs": [
        {
          "name": "stdout",
          "output_type": "stream",
          "text": [
            "<class 'pandas.core.frame.DataFrame'>\n",
            "RangeIndex: 40000 entries, 0 to 39999\n",
            "Data columns (total 25 columns):\n",
            " #   Column                  Non-Null Count  Dtype  \n",
            "---  ------                  --------------  -----  \n",
            " 0   Timestamp               40000 non-null  object \n",
            " 1   Source IP Address       40000 non-null  object \n",
            " 2   Destination IP Address  40000 non-null  object \n",
            " 3   Source Port             40000 non-null  int64  \n",
            " 4   Destination Port        40000 non-null  int64  \n",
            " 5   Protocol                40000 non-null  object \n",
            " 6   Packet Length           40000 non-null  int64  \n",
            " 7   Packet Type             40000 non-null  object \n",
            " 8   Traffic Type            40000 non-null  object \n",
            " 9   Payload Data            40000 non-null  object \n",
            " 10  Malware Indicators      40000 non-null  object \n",
            " 11  Anomaly Scores          40000 non-null  float64\n",
            " 12  Alerts/Warnings         40000 non-null  object \n",
            " 13  Attack Type             40000 non-null  object \n",
            " 14  Attack Signature        40000 non-null  object \n",
            " 15  Action Taken            40000 non-null  object \n",
            " 16  Severity Level          40000 non-null  object \n",
            " 17  User Information        40000 non-null  object \n",
            " 18  Device Information      40000 non-null  object \n",
            " 19  Network Segment         40000 non-null  object \n",
            " 20  Geo-location Data       40000 non-null  object \n",
            " 21  Proxy Information       40000 non-null  object \n",
            " 22  Firewall Logs           40000 non-null  object \n",
            " 23  IDS/IPS Alerts          40000 non-null  object \n",
            " 24  Log Source              40000 non-null  object \n",
            "dtypes: float64(1), int64(3), object(21)\n",
            "memory usage: 7.6+ MB\n"
          ]
        }
      ],
      "source": [
        "ns.info()"
      ]
    },
    {
      "cell_type": "code",
      "execution_count": 5,
      "id": "ECgyw6Ax_Tp-",
      "metadata": {
        "id": "ECgyw6Ax_Tp-"
      },
      "outputs": [],
      "source": [
        "# Get dummies and correlations of these columns\n",
        "\n",
        "ns_copy = ns.copy()\n",
        "\n",
        "ns_copy = ns_copy.drop(columns=['Source IP Address', 'Destination IP Address', 'Payload Data',\n",
        "                                'User Information', 'Device Information', 'Malware Indicators', \n",
        "                                'Alerts/Warnings', 'Geo-location Data', 'Proxy Information',\n",
        "                                'IDS/IPS Alerts', 'Firewall Logs'])\n",
        "\n",
        "SourcePort = pd.get_dummies(ns_copy[\"Source Port\"])\n",
        "DestinationPort = pd.get_dummies(ns_copy[\"Destination Port\"])\n",
        "TrafficType = pd.get_dummies(ns_copy['Traffic Type'])\n",
        "Protocol = pd.get_dummies(ns_copy[\"Protocol\"])\n",
        "PacketType = pd.get_dummies(ns_copy[\"Packet Type\"])\n",
        "AttackType = pd.get_dummies(ns_copy[\"Attack Type\"])\n",
        "AttackSignature = pd.get_dummies(ns_copy[\"Attack Signature\"])\n",
        "ActionTaken = pd.get_dummies(ns_copy[\"Action Taken\"])\n",
        "NetworkSegment = pd.get_dummies(ns_copy[\"Network Segment\"])\n",
        "LogSource = pd.get_dummies(ns_copy[\"Log Source\"])"
      ]
    },
    {
      "cell_type": "code",
      "execution_count": 6,
      "id": "PfeLVOUC_UmG",
      "metadata": {
        "colab": {
          "base_uri": "https://localhost:8080/"
        },
        "id": "PfeLVOUC_UmG",
        "outputId": "bdeb7345-01a3-465b-8025-e81db9e5c554"
      },
      "outputs": [
        {
          "name": "stdout",
          "output_type": "stream",
          "text": [
            "           DNS       FTP      HTTP\n",
            "DNS   1.000000 -0.499247 -0.501952\n",
            "FTP  -0.499247  1.000000 -0.498799\n",
            "HTTP -0.501952 -0.498799  1.000000\n",
            "          ICMP       TCP       UDP\n",
            "ICMP  1.000000 -0.500960 -0.501723\n",
            "TCP  -0.500960  1.000000 -0.497314\n",
            "UDP  -0.501723 -0.497314  1.000000\n",
            "         Control  Data\n",
            "Control      1.0  -1.0\n",
            "Data        -1.0   1.0\n",
            "               DDoS  Intrusion   Malware\n",
            "DDoS       1.000000  -0.500734 -0.501920\n",
            "Intrusion -0.500734   1.000000 -0.497342\n",
            "Malware   -0.501920  -0.497342  1.000000\n",
            "                 Known Pattern A  Known Pattern B\n",
            "Known Pattern A              1.0             -1.0\n",
            "Known Pattern B             -1.0              1.0\n",
            "          Blocked   Ignored    Logged\n",
            "Blocked  1.000000 -0.503884 -0.501585\n",
            "Ignored -0.503884  1.000000 -0.494515\n",
            "Logged  -0.501585 -0.494515  1.000000\n",
            "           Segment A  Segment B  Segment C\n",
            "Segment A   1.000000  -0.497902  -0.500398\n",
            "Segment B  -0.497902   1.000000  -0.501697\n",
            "Segment C  -0.500398  -0.501697   1.000000\n",
            "          Firewall  Server\n",
            "Firewall       1.0    -1.0\n",
            "Server        -1.0     1.0\n"
          ]
        }
      ],
      "source": [
        "print(TrafficType.corr())\n",
        "\n",
        "print(Protocol.corr())\n",
        "\n",
        "print(PacketType.corr())\n",
        "\n",
        "print(AttackType.corr())\n",
        "\n",
        "print(AttackSignature.corr())\n",
        "\n",
        "print(ActionTaken.corr())\n",
        "\n",
        "print(NetworkSegment.corr())\n",
        "\n",
        "print(LogSource.corr())\n",
        "\n",
        "# Change the time variable to seconds\n",
        "\n",
        "ns_copy['Timestamp'] = pd.to_datetime(ns_copy['Timestamp'])\n",
        "ns_copy['time_since_starting'] = (ns_copy['Timestamp'] - ns_copy['Timestamp'].min()).dt.total_seconds()\n",
        "\n",
        "# Merge all the modified features\n",
        "\n",
        "encoded_cols = ['Source Port', 'Destination Port', 'Traffic Type', 'Protocol', 'Packet Type', 'Timestamp',\n",
        "                'Attack Type', 'Attack Signature', 'Action Taken', 'Network Segment', 'Log Source']\n",
        "\n",
        "ns_copy_encoded = ns_copy.drop(columns=encoded_cols)\n",
        "\n",
        "for col in encoded_cols:\n",
        "    dummies = pd.get_dummies(ns_copy[col], prefix=col.replace(' ', '_'))\n",
        "    ns_copy_encoded = pd.concat([ns_copy_encoded, dummies], axis=1)"
      ]
    },
    {
      "cell_type": "code",
      "execution_count": 7,
      "id": "uBWq-6M3_aRq",
      "metadata": {
        "colab": {
          "base_uri": "https://localhost:8080/",
          "height": 458
        },
        "id": "uBWq-6M3_aRq",
        "outputId": "25c84eae-5b41-4755-a863-4232cf3ee6e7"
      },
      "outputs": [],
      "source": [
        "# Mapping the Severity Levels (Low, Medium, High to 1, 2, 3)\n",
        "\n",
        "level_map = {'Low': 1, 'Medium': 2, 'High': 3}\n",
        "ns_copy_encoded['Severity Level'] = ns['Severity Level'].map(level_map)"
      ]
    },
    {
      "cell_type": "code",
      "execution_count": 8,
      "id": "ME2Jr3ZENaSv",
      "metadata": {
        "colab": {
          "base_uri": "https://localhost:8080/",
          "height": 699
        },
        "id": "ME2Jr3ZENaSv",
        "outputId": "651b6667-6890-473f-a44b-8c16af5dc03c"
      },
      "outputs": [
        {
          "name": "stderr",
          "output_type": "stream",
          "text": [
            "/var/folders/nl/l6hswjjs70vcjbkfkcx2z0l80000gn/T/ipykernel_21774/241541699.py:8: FutureWarning: The default of observed=False is deprecated and will be changed to True in a future version of pandas. Pass observed=False to retain current behavior or observed=True to adopt the future default and silence this warning.\n",
            "  bubble_data = ns.groupby(['PacketBin', 'AnomalyBin']).size().reset_index(name='count')\n"
          ]
        },
        {
          "data": {
            "image/png": "[encoded data removed]",
            "text/plain": [
              "<Figure size 1200x600 with 1 Axes>"
            ]
          },
          "metadata": {},
          "output_type": "display_data"
        }
      ],
      "source": [
        "# Bubble Plot for Packet Length and Anomaly Scores\n",
        "\n",
        "# Create bins\n",
        "\n",
        "ns['PacketBin'] = pd.cut(ns['Packet Length'], bins=10)\n",
        "ns['AnomalyBin'] = pd.cut(ns['Anomaly Scores'], bins=10)\n",
        "\n",
        "bubble_data = ns.groupby(['PacketBin', 'AnomalyBin']).size().reset_index(name='count')\n",
        "\n",
        "# Convert intervals to strings for plotting\n",
        "bubble_data['PacketBin'] = bubble_data['PacketBin'].astype(str)\n",
        "bubble_data['AnomalyBin'] = bubble_data['AnomalyBin'].astype(str)\n",
        "\n",
        "plt.figure(figsize=(12, 6))\n",
        "sns.scatterplot(\n",
        "    data=bubble_data,\n",
        "    x='PacketBin',\n",
        "    y='AnomalyBin',\n",
        "    size='count',\n",
        "    sizes=(20, 500),\n",
        "    legend=False,\n",
        "    alpha=0.6\n",
        ")\n",
        "plt.xticks(rotation=45)\n",
        "plt.title('Bubble Plot: Binned Packet Length vs. Anomaly Scores')\n",
        "plt.xlabel('Packet Length Bins')\n",
        "plt.ylabel('Anomaly Score Bins')\n",
        "plt.show()\n"
      ]
    },
    {
      "cell_type": "markdown",
      "id": "6f6c88a7",
      "metadata": {},
      "source": [
        "The bubble plot visualizes the relationship between binned packet lengths and anomaly scores in the dataset. Each bubble represents the count of records within a specific bin combination, with size indicating frequency. The distribution is dense and fairly uniform across bins, with no dominant clusters, suggesting that packet length and anomaly score are not strongly correlated in this synthetic dataset. This reinforces earlier findings that the dataset may lack clear feature separability tied to threat severity or behavior."
      ]
    },
    {
      "cell_type": "code",
      "execution_count": 9,
      "id": "Bo4bPPtvOUev",
      "metadata": {
        "colab": {
          "base_uri": "https://localhost:8080/"
        },
        "id": "Bo4bPPtvOUev",
        "outputId": "b4f04e93-a641-4933-d23a-e44aa06cc052"
      },
      "outputs": [
        {
          "name": "stdout",
          "output_type": "stream",
          "text": [
            "Print PCA Component 1: [ 9.95662409e-03  3.98770542e-03  1.66009019e-04  1.23125585e-02\n",
            " -4.99544938e-03  1.84845963e-02 -2.40445897e-03  7.36667942e-03\n",
            " -6.57595460e-03  4.21907692e-03  8.20142102e-03 -1.04305103e-02\n",
            "  3.30627287e-03  9.30149150e-03 -2.58542184e-04  1.21872456e-03\n",
            " -1.59241819e-03 -5.00798345e-03  4.24944851e-03  6.78975987e-04\n",
            "  8.36096589e-03 -9.81344552e-03 -1.32404100e-03 -8.48627733e-03\n",
            " -7.02720025e-03 -4.75861682e-04 -1.42969535e-03 -3.73233813e-04\n",
            " -1.19144199e-03 -1.55919342e-04 -5.74027457e-03  5.50195573e-04\n",
            "  4.40349256e-03 -4.59127068e-03  6.28547693e-04  8.93611943e-03\n",
            " -2.78492801e-03 -7.12060914e-03  4.07916470e-03 -3.42718294e-03\n",
            "  1.04350534e-03  5.87529066e-04 -4.70479311e-03  1.23768008e-03\n",
            " -1.44778955e-03 -1.24912336e-02 -2.36802694e-03 -2.31422113e-03\n",
            " -2.84439508e-03 -8.65395884e-03  3.58901424e-03  4.20492414e-03\n",
            "  4.10284456e-03  5.98434889e-03  4.71846421e-03 -5.55639535e-04\n",
            " -1.49377804e-04  2.62475658e-02 -1.50682766e-03 -2.47512832e-02\n",
            "  1.71165637e-02 -7.89167152e-03 -9.27045528e-03  4.59508253e-01\n",
            " -4.59508253e-01 -2.40116638e-02 -3.66460534e-04  2.44320231e-02\n",
            " -1.16574960e-01  1.16574960e-01  2.50672431e-02 -7.98788853e-03\n",
            " -1.72236324e-02  6.76588397e-04  1.87561604e-03 -2.54738656e-03\n",
            "  5.21830603e-01 -5.21830603e-01]\n",
            "Print PCA Component 2: [-5.87992742e-03  2.46990650e-03 -5.15163994e-03  4.64932351e-03\n",
            "  2.10603717e-03 -1.60157053e-03 -1.40567543e-02  5.19215524e-03\n",
            "  1.17482293e-02 -1.51956858e-03  3.59749186e-04  3.38290369e-03\n",
            "  3.90004061e-03 -3.47818554e-03 -3.63411992e-04 -9.92839148e-03\n",
            " -1.91536715e-02  1.93393726e-03 -2.76522866e-03 -4.90791337e-03\n",
            " -2.59585263e-03  3.20480523e-03  4.69814513e-03 -1.63306014e-03\n",
            "  1.15472598e-02 -2.12266802e-04 -1.28840537e-02 -5.18846616e-03\n",
            "  5.45974806e-03 -5.98100992e-04  7.41707328e-03 -5.00290065e-03\n",
            "  3.57571174e-03  2.75306135e-03 -4.28875482e-03  1.14032011e-03\n",
            "  1.50598643e-02 -1.15359851e-02 -1.15384484e-03 -8.97810960e-03\n",
            " -4.56195815e-03 -4.52201577e-03 -3.69886904e-03 -4.86929721e-03\n",
            "  1.02866751e-02 -4.55500017e-03  9.92819431e-03 -7.56595334e-03\n",
            " -1.34829293e-02 -1.24883527e-03  3.41369484e-03 -2.24524514e-03\n",
            "  2.77844117e-03 -1.16356200e-02  3.12693532e-03  2.93659150e-04\n",
            " -7.40233785e-04 -1.83571488e-02  7.82732953e-03  1.05494244e-02\n",
            "  1.41862644e-02 -2.04153785e-02  6.18426588e-03  3.46254255e-01\n",
            " -3.46254255e-01 -2.49018504e-02  2.37127789e-02  1.26410276e-03\n",
            "  5.88784072e-01 -5.88784072e-01  1.89629631e-02  5.44295325e-03\n",
            " -2.45328395e-02 -9.44682992e-03  2.24765306e-03  7.17905301e-03\n",
            " -1.74241956e-01  1.74241956e-01]\n",
            "Print PCA Component 3: [ 5.15210060e-03 -9.37715508e-03  2.07800085e-03  2.46571795e-03\n",
            "  1.13433805e-03  2.97649753e-03 -8.64645171e-03 -8.58569804e-04\n",
            " -2.85749359e-03 -1.52500236e-03 -4.83955813e-03  9.03245878e-03\n",
            "  1.28770322e-02  2.92757900e-03 -5.95193103e-03 -1.56858044e-03\n",
            " -6.61758783e-04  6.03042747e-03 -1.23203991e-03  1.84996470e-03\n",
            "  1.38058653e-02 -2.62282784e-03 -2.50952668e-03  5.36250238e-03\n",
            " -2.82896010e-03  5.80565659e-03 -1.32007028e-02  1.37240876e-02\n",
            "  8.98577861e-03 -5.65206741e-03  4.79442525e-03  1.95717368e-03\n",
            "  1.41573765e-03  1.26216030e-02  1.30819328e-02 -5.09888077e-03\n",
            "  4.59534764e-03 -1.30317597e-03  9.20880215e-03 -4.96613623e-03\n",
            " -2.97863751e-03  2.05360249e-03 -1.80857590e-03  2.28378467e-03\n",
            "  9.59743488e-04 -2.10282688e-03  1.30011683e-03  6.00320222e-03\n",
            "  2.78623043e-03  4.98491440e-03  2.00504241e-03 -1.88534482e-03\n",
            " -9.39181198e-03  2.22407849e-03 -9.36283505e-03  5.63170374e-03\n",
            " -5.30641482e-03  2.30999726e-02 -5.02070356e-03 -1.80952205e-02\n",
            " -1.59235889e-02 -1.86127332e-03  1.78225499e-02 -4.06763115e-01\n",
            "  4.06763115e-01  9.95498645e-03 -5.04894492e-03 -4.93251789e-03\n",
            "  3.70977814e-01 -3.70977814e-01 -1.17031248e-02  4.21872299e-04\n",
            "  1.13537312e-02  3.36505265e-04 -1.07317805e-02  1.03783319e-02\n",
            "  4.41331468e-01 -4.41331468e-01]\n",
            "Print PCA Component 4: [ 3.49006453e-03 -1.01267612e-02 -1.17819168e-02 -1.25852014e-03\n",
            " -2.79154032e-04  1.00249714e-02 -9.39715966e-03 -1.67645335e-02\n",
            "  4.38698908e-03  1.33611884e-02 -9.25197185e-03 -1.03031111e-02\n",
            "  2.46678746e-04  7.23605498e-04 -1.15444312e-02 -1.15830586e-02\n",
            "  6.05893884e-04 -9.49345929e-03 -1.87025553e-02  9.65183374e-03\n",
            " -4.73654858e-03  1.48654165e-02 -1.22564291e-02  1.22765266e-02\n",
            "  3.41521068e-03  6.88653016e-04  5.68944272e-03 -6.91343329e-03\n",
            " -2.37481393e-02 -6.16379510e-04  2.77051473e-02 -1.41215844e-02\n",
            " -1.45794464e-02  2.69191113e-02 -2.26691166e-03  1.18141630e-02\n",
            " -2.18725873e-03 -1.07325893e-03 -2.73975201e-02 -1.48803995e-02\n",
            "  6.07715852e-03  6.21085680e-03 -1.11209561e-02  4.61315982e-03\n",
            "  1.15200333e-02  5.17066723e-03 -7.02389375e-03  2.61050443e-02\n",
            " -1.67595604e-02  2.54514873e-03  2.18442053e-02 -2.26208047e-02\n",
            "  9.12472011e-03 -8.01897999e-03  1.77795422e-02  1.10840214e-02\n",
            "  3.45553114e-03  3.02385784e-02  2.78225273e-01 -3.07970505e-01\n",
            " -2.90272728e-01  1.59413213e-02  2.75043889e-01 -1.56863495e-02\n",
            "  1.56863495e-02 -1.30882358e-01  3.56391947e-01 -2.24931169e-01\n",
            " -1.01734056e-02  1.01734056e-02  5.08073519e-01 -2.25512968e-01\n",
            " -2.85386367e-01  1.02195756e-01  1.16432884e-01 -2.18177586e-01\n",
            " -5.42291083e-03  5.42291083e-03]\n",
            "Print PCA Component 5: [ 3.04944616e-03  2.45748793e-03 -1.18318489e-03 -4.53232630e-03\n",
            " -8.91774235e-03  7.12795397e-04 -8.55604394e-03 -2.07681457e-04\n",
            "  8.78498515e-03  1.56431821e-02  3.37646367e-04  7.99935011e-03\n",
            " -1.38863020e-02  1.39463686e-02  8.07258942e-03  9.49668530e-03\n",
            " -1.10856121e-02 -7.40920981e-03 -8.36041434e-04  4.81694683e-03\n",
            "  2.12192065e-02  6.84274036e-03  4.72730126e-03 -1.29385312e-02\n",
            "  5.70876322e-04 -7.23029752e-03 -1.40140916e-02  1.19269079e-03\n",
            "  4.50930017e-03  2.11341461e-03 -9.11911606e-03 -2.25612593e-02\n",
            " -1.56578421e-03 -1.25109726e-02 -4.67449520e-03 -2.82443474e-03\n",
            "  1.72982173e-03  1.76474094e-02  2.76798044e-04 -3.87509298e-03\n",
            "  6.61360149e-03  1.52530988e-02  1.22501858e-02 -3.19290640e-03\n",
            "  6.98318493e-03  1.79071010e-02  2.81028005e-03  7.76617927e-04\n",
            "  1.43474758e-02 -9.12473750e-03  2.80059842e-03 -1.02400140e-02\n",
            "  6.68151600e-03 -1.28240006e-02  9.46754692e-03  9.00972237e-03\n",
            "  1.05255237e-02 -2.90320908e-01  3.85611025e-01 -9.45073180e-02\n",
            " -1.07362555e-01 -2.42842336e-01  3.50341391e-01  3.03892868e-03\n",
            " -3.03892868e-03 -3.79958479e-02  9.00098309e-02 -5.18567484e-02\n",
            " -1.82184331e-02  1.82184331e-02 -2.10415022e-01  2.73458659e-01\n",
            " -6.21520771e-02 -4.54610228e-01 -1.22817725e-02  4.65723886e-01\n",
            "  9.83858443e-03 -9.83858443e-03]\n",
            "\n",
            "Explained variance ratios: [0.02589817 0.025801   0.0253743  0.01961822 0.01955635 0.01949137\n",
            " 0.01935542 0.01931166 0.01929313 0.01915977 0.01909688 0.01896474\n",
            " 0.01888665 0.01326041 0.01282237]\n",
            "Total explained variance: 0.2958904235525133\n"
          ]
        }
      ],
      "source": [
        "# PCA\n",
        "\n",
        "low_freq_cols = ns_copy_encoded.columns[(ns_copy_encoded == 1).sum() < 5]\n",
        "ns_reduced = ns_copy_encoded.drop(columns=low_freq_cols)\n",
        "\n",
        "scaler = StandardScaler()\n",
        "ns_encoded_scaled = scaler.fit_transform(\n",
        "    ns_reduced.drop(columns=['PacketBin', 'AnomalyBin'], errors='ignore')\n",
        ")\n",
        "\n",
        "pca = PCA(n_components=15)\n",
        "pca.fit(ns_encoded_scaled)\n",
        "\n",
        "components5 = pca.components_\n",
        "\n",
        "print(f\"Print PCA Component 1: {components5[0]}\")\n",
        "print(f\"Print PCA Component 2: {components5[1]}\")\n",
        "print(f\"Print PCA Component 3: {components5[2]}\")\n",
        "print(f\"Print PCA Component 4: {components5[3]}\")\n",
        "print(f\"Print PCA Component 5: {components5[4]}\")\n",
        "\n",
        "print(\"\\nExplained variance ratios:\", pca.explained_variance_ratio_)\n",
        "print(\"Total explained variance:\", sum(pca.explained_variance_ratio_))"
      ]
    },
    {
      "cell_type": "markdown",
      "id": "ccd49ab0",
      "metadata": {},
      "source": [
        "In the PCA process, I removed extremely sparse one-hot encoded features that appeared in fewer than 5 records, as these would contribute little to overall variance and increase computational cost. We then scaled all numerical features using StandardScaler to ensure uniformity. PCA was applied with 15 components to extract the dominant patterns in the dataset. The first five components individually explained 1.9% to 2.6% of the total variance, with the first 15 together accounting for approximately 29.6%. This result is typical for high-dimensional encoded datasets, indicating that the data's variability is spread thinly across many features and no single component dominates."
      ]
    },
    {
      "cell_type": "markdown",
      "id": "e3760fc6",
      "metadata": {},
      "source": [
        "# Week 4: Logistic Regression and Feature Scaling"
      ]
    },
    {
      "cell_type": "code",
      "execution_count": 10,
      "id": "_-kfQoW6VYaV",
      "metadata": {
        "colab": {
          "base_uri": "https://localhost:8080/"
        },
        "id": "_-kfQoW6VYaV",
        "outputId": "8e8901de-ccf9-4b41-867e-c2cbcf2aa9d1"
      },
      "outputs": [
        {
          "name": "stdout",
          "output_type": "stream",
          "text": [
            "Accuracy: 0.328375\n",
            "\n",
            "Classification Report:\n",
            "               precision    recall  f1-score   support\n",
            "\n",
            "           1       0.33      0.21      0.25      2673\n",
            "           2       0.34      0.38      0.36      2729\n",
            "           3       0.31      0.41      0.35      2598\n",
            "\n",
            "    accuracy                           0.33      8000\n",
            "   macro avg       0.33      0.33      0.32      8000\n",
            "weighted avg       0.33      0.33      0.32      8000\n",
            "\n",
            "\n",
            "Confusion Matrix:\n",
            " [[ 549  994 1130]\n",
            " [ 542 1025 1162]\n",
            " [ 582  963 1053]]\n"
          ]
        }
      ],
      "source": [
        "# Logistic Regression\n",
        "\n",
        "X = ns_reduced.drop(columns=['Severity Level', 'PacketBin', 'AnomalyBin'], errors='ignore')\n",
        "y = ns_reduced['Severity Level']\n",
        "\n",
        "scaler = StandardScaler()\n",
        "X_scaled = scaler.fit_transform(X)\n",
        "\n",
        "X_train, X_test, y_train, y_test = train_test_split(X_scaled, y, random_state=42, test_size=0.2)\n",
        "\n",
        "model = LogisticRegression(max_iter=1000)\n",
        "model.fit(X_train, y_train)\n",
        "\n",
        "y_pred = model.predict(X_test)\n",
        "\n",
        "print(\"Accuracy:\", accuracy_score(y_test, y_pred))\n",
        "print(\"\\nClassification Report:\\n\", classification_report(y_test, y_pred))\n",
        "print(\"\\nConfusion Matrix:\\n\", confusion_matrix(y_test, y_pred))"
      ]
    },
    {
      "cell_type": "markdown",
      "id": "f4068dbb",
      "metadata": {},
      "source": [
        "The logistic regression model was trained to classify severity levels in the synthetic network security dataset. The model achieved an overall accuracy of approximately 32.8%, which is close to random guessing in a three-class problem. Precision, recall, and F1-scores for all classes ranged between 0.25 and 0.41, indicating weak predictive performance. The confusion matrix showed substantial overlap between predicted and actual classes, suggesting the model struggled to distinguish between severity levels. These results are expected for a synthetic dataset where class separability may be minimal and patterns not well-defined."
      ]
    },
    {
      "cell_type": "markdown",
      "id": "3242c69c",
      "metadata": {},
      "source": [
        "# Week 5: Support Vector Machines"
      ]
    },
    {
      "cell_type": "code",
      "execution_count": 11,
      "id": "13588fd6",
      "metadata": {},
      "outputs": [
        {
          "name": "stdout",
          "output_type": "stream",
          "text": [
            "\n",
            "SVM:\n",
            "Test Accuracy: 0.336625\n",
            "Classification Report:\n",
            "               precision    recall  f1-score   support\n",
            "\n",
            "           1       0.34      0.18      0.24      2673\n",
            "           2       0.35      0.41      0.38      2729\n",
            "           3       0.32      0.42      0.37      2598\n",
            "\n",
            "    accuracy                           0.34      8000\n",
            "   macro avg       0.34      0.34      0.33      8000\n",
            "weighted avg       0.34      0.34      0.33      8000\n",
            "\n",
            "Confusion Matrix:\n",
            " [[ 487 1032 1154]\n",
            " [ 478 1112 1139]\n",
            " [ 474 1030 1094]]\n"
          ]
        }
      ],
      "source": [
        "X = ns_reduced.drop(columns=['Severity Level', 'PacketBin', 'AnomalyBin'], errors='ignore')\n",
        "y = ns_reduced['Severity Level']\n",
        "\n",
        "scaler = StandardScaler()\n",
        "X_scaled = scaler.fit_transform(X)\n",
        "\n",
        "X_train_scaled, X_test_scaled, y_train, y_test = train_test_split(\n",
        "    X_scaled, y, test_size=0.2, random_state=42\n",
        ")\n",
        "\n",
        "svm_model = SVC(kernel='rbf', random_state=42)\n",
        "svm_model.fit(X_train_scaled, y_train)\n",
        "\n",
        "y_pred_svm = svm_model.predict(X_test_scaled)\n",
        "\n",
        "print(\"\\nSVM:\")\n",
        "print(\"Test Accuracy:\", accuracy_score(y_test, y_pred_svm))\n",
        "print(\"Classification Report:\\n\", classification_report(y_test, y_pred_svm))\n",
        "print(\"Confusion Matrix:\\n\", confusion_matrix(y_test, y_pred_svm))"
      ]
    },
    {
      "cell_type": "markdown",
      "id": "843656b1",
      "metadata": {},
      "source": [
        "The Support Vector Machine (SVM) model achieved a slightly higher test accuracy of 33.66%, marginally outperforming previous models like Random Forest, and Decision Tree, which hovered around 33%. Notably, while precision and recall were similarly low across all classes, SVM showed slightly better class differentiation—particularly in recall for classes 2 and 3 (both over 40%), though class 1 remained poorly captured. This suggests SVM may be marginally more effective in separating certain decision boundaries, even if overall performance is still poor. The minimal lift reinforces the hypothesis that the features lack strong discriminatory power, and the target labels in the synthetic dataset do not correspond to meaningful, separable clusters. As with earlier models, systemic misclassification in the confusion matrix reflects the likely weak or noisy structure of the data."
      ]
    },
    {
      "cell_type": "markdown",
      "id": "a1e54b80",
      "metadata": {},
      "source": [
        "# Week 6: Decision Trees and Random Forests"
      ]
    },
    {
      "cell_type": "code",
      "execution_count": 12,
      "id": "5bd7e940",
      "metadata": {},
      "outputs": [
        {
          "name": "stdout",
          "output_type": "stream",
          "text": [
            "\n",
            "Decision Tree:\n",
            "Test Accuracy: 0.32925\n",
            "Classification Report:\n",
            "               precision    recall  f1-score   support\n",
            "\n",
            "           1       0.33      0.37      0.35      2673\n",
            "           2       0.34      0.33      0.33      2729\n",
            "           3       0.32      0.28      0.30      2598\n",
            "\n",
            "    accuracy                           0.33      8000\n",
            "   macro avg       0.33      0.33      0.33      8000\n",
            "weighted avg       0.33      0.33      0.33      8000\n",
            "\n",
            "Confusion Matrix:\n",
            " [[1001  905  767]\n",
            " [1041  899  789]\n",
            " [ 996  868  734]]\n",
            "\n",
            "Random Forest:\n",
            "Test Accuracy: 0.330625\n",
            "Classification Report:\n",
            "               precision    recall  f1-score   support\n",
            "\n",
            "           1       0.33      0.32      0.32      2673\n",
            "           2       0.34      0.34      0.34      2729\n",
            "           3       0.32      0.33      0.33      2598\n",
            "\n",
            "    accuracy                           0.33      8000\n",
            "   macro avg       0.33      0.33      0.33      8000\n",
            "weighted avg       0.33      0.33      0.33      8000\n",
            "\n",
            "Confusion Matrix:\n",
            " [[853 905 915]\n",
            " [875 922 932]\n",
            " [850 878 870]]\n"
          ]
        }
      ],
      "source": [
        "X = ns_reduced.drop(columns=['Severity Level', 'PacketBin', 'AnomalyBin'], errors='ignore')\n",
        "y = ns_reduced['Severity Level']\n",
        "\n",
        "scaler = StandardScaler()\n",
        "X_scaled = scaler.fit_transform(X)\n",
        "\n",
        "X_train_scaled, X_test_scaled, y_train, y_test = train_test_split(\n",
        "    X_scaled, y, test_size=0.2, random_state=42\n",
        ")\n",
        "\n",
        "dt_model = DecisionTreeClassifier(random_state=42)\n",
        "dt_model.fit(X_train_scaled, y_train)\n",
        "y_pred_dt = dt_model.predict(X_test_scaled)\n",
        "\n",
        "print(\"\\nDecision Tree:\")\n",
        "print(\"Test Accuracy:\", accuracy_score(y_test, y_pred_dt))\n",
        "print(\"Classification Report:\\n\", classification_report(y_test, y_pred_dt))\n",
        "print(\"Confusion Matrix:\\n\", confusion_matrix(y_test, y_pred_dt))\n",
        "\n",
        "rf_model = RandomForestClassifier(random_state=42)\n",
        "rf_model.fit(X_train_scaled, y_train)\n",
        "y_pred_rf = rf_model.predict(X_test_scaled)\n",
        "\n",
        "print(\"\\nRandom Forest:\")\n",
        "print(\"Test Accuracy:\", accuracy_score(y_test, y_pred_rf))\n",
        "print(\"Classification Report:\\n\", classification_report(y_test, y_pred_rf))\n",
        "print(\"Confusion Matrix:\\n\", confusion_matrix(y_test, y_pred_rf))"
      ]
    },
    {
      "cell_type": "markdown",
      "id": "c1ce1da4",
      "metadata": {},
      "source": [
        "The Decision Tree and Random Forest classifiers each achieved approximately 33% test accuracy, nearly identical to the logistic regression model. Precision, recall, and F1-scores across all severity classes remained near chance level (~0.33), highlighting the models' inability to distinguish between categories. indicating minimal improvement. The confusion matrix reveals consistent misclassification across all classes, with the model performing no better than random guessing. Despite hyperparameter tuning, the classifier could not extract strong patterns from the synthetic dataset, reinforcing the likelihood that feature relationships to severity levels are weak or non-distinct. Synthetic data, as is the case here, often lacks real-world complexity and separability. Thus, the features have very weak correlations with the target Severity Level. "
      ]
    },
    {
      "cell_type": "markdown",
      "id": "55ed9822",
      "metadata": {},
      "source": [
        "# Week 8: K-Nearest Neighbors"
      ]
    },
    {
      "cell_type": "code",
      "execution_count": 13,
      "id": "e8565303",
      "metadata": {},
      "outputs": [
        {
          "name": "stdout",
          "output_type": "stream",
          "text": [
            "KNN:\n",
            "Test Accuracy: 0.333375\n",
            "Classification Report:\n",
            "               precision    recall  f1-score   support\n",
            "\n",
            "           1       0.33      0.47      0.39      2673\n",
            "           2       0.34      0.33      0.34      2729\n",
            "           3       0.32      0.20      0.24      2598\n",
            "\n",
            "    accuracy                           0.33      8000\n",
            "   macro avg       0.33      0.33      0.32      8000\n",
            "weighted avg       0.33      0.33      0.32      8000\n",
            "\n",
            "Confusion Matrix:\n",
            " [[1259  859  555]\n",
            " [1288  897  544]\n",
            " [1226  861  511]]\n"
          ]
        }
      ],
      "source": [
        "X = ns_reduced.drop(columns=['Severity Level', 'PacketBin', 'AnomalyBin'], errors='ignore')\n",
        "y = ns_reduced['Severity Level']\n",
        "\n",
        "scaler = StandardScaler()\n",
        "X_scaled = scaler.fit_transform(X)\n",
        "\n",
        "X_train, X_test, y_train, y_test = train_test_split(X_scaled, y, test_size=0.2, random_state=42)\n",
        "\n",
        "knn_model = KNeighborsClassifier(n_neighbors=5)\n",
        "knn_model.fit(X_train, y_train)\n",
        "y_pred = knn_model.predict(X_test)\n",
        "\n",
        "print(\"KNN:\")\n",
        "print(\"Test Accuracy:\", accuracy_score(y_test, y_pred))\n",
        "print(\"Classification Report:\\n\", classification_report(y_test, y_pred))\n",
        "print(\"Confusion Matrix:\\n\", confusion_matrix(y_test, y_pred))\n"
      ]
    },
    {
      "cell_type": "markdown",
      "id": "a9f926ea",
      "metadata": {},
      "source": [
        "The K-Nearest Neighbors (KNN) model achieved a test accuracy of about 33%, which is similar to what other classifiers used on this dataset. While Class 1 showed slightly better recall (0.47), Classes 2 and 3 had weaker recall and F1-scores, especially Class 3 with a recall of only 0.20. The confusion matrix highlights heavy misclassification across all classes, suggesting poor class separation. These results confirm that KNN, despite being a distance-based model, struggles with the dataset’s feature space, likely due to high dimensionality, class overlap, or noise inherent in the synthetic data. The model's performance aligns with previous models, reinforcing the notion that the predictors have limited discriminatory power over the Severity Level."
      ]
    },
    {
      "cell_type": "markdown",
      "id": "dd171d20",
      "metadata": {},
      "source": [
        "# Week 9: Gradient Boost"
      ]
    },
    {
      "cell_type": "code",
      "execution_count": null,
      "id": "59e78a53",
      "metadata": {},
      "outputs": [],
      "source": [
        "X = ns_reduced.drop(columns=['Severity Level', 'PacketBin', 'AnomalyBin'], errors='ignore')\n",
        "y = ns_reduced['Severity Level']\n",
        "\n",
        "scaler = StandardScaler()\n",
        "X_scaled = scaler.fit_transform(X)\n",
        "\n",
        "X_train, X_test, y_train, y_test = train_test_split(\n",
        "    X_scaled, y, test_size=0.2, random_state=42\n",
        ")\n",
        "\n",
        "gb_model = GradientBoostingClassifier(random_state=42)\n",
        "gb_model.fit(X_train, y_train)\n",
        "y_pred = gb_model.predict(X_test)\n",
        "\n",
        "print(\"Gradient Boosting:\")\n",
        "print(\"Test Accuracy:\", accuracy_score(y_test, y_pred))\n",
        "print(\"\\nClassification Report:\\n\", classification_report(y_test, y_pred))\n",
        "print(\"\\nConfusion Matrix:\\n\", confusion_matrix(y_test, y_pred))"
      ]
    },
    {
      "cell_type": "markdown",
      "id": "23c50661",
      "metadata": {},
      "source": [
        "The Gradient Boosting model achieved a test accuracy of 32%, slightly lower than other classifiers applied to this dataset. While precision hovered near 0.33 for all classes, recall varied widely—especially for class 1, where recall dropped to 0.18. This inconsistency indicates the model’s inability to consistently separate the three severity levels. The confusion matrix shows heavy misclassification across all classes, similar to previous models. Despite Gradient Boosting's known strengths in capturing complex patterns, its underperformance here confirms that the features in this synthetic cybersecurity dataset lack strong or distinct relationships to the target variable, limiting any classifier’s ability to perform significantly better than chance."
      ]
    },
    {
      "cell_type": "markdown",
      "id": "2e2a3fa6",
      "metadata": {},
      "source": [
        "# Week 10: Clustering"
      ]
    },
    {
      "cell_type": "code",
      "execution_count": null,
      "id": "80c77b9c",
      "metadata": {},
      "outputs": [
        {
          "ename": "",
          "evalue": "",
          "output_type": "error",
          "traceback": [
            "\u001b[1;31mThe Kernel crashed while executing code in the current cell or a previous cell. \n",
            "\u001b[1;31mPlease review the code in the cell(s) to identify a possible cause of the failure. \n",
            "\u001b[1;31mClick <a href='https://aka.ms/vscodeJupyterKernelCrash'>here</a> for more info. \n",
            "\u001b[1;31mView Jupyter <a href='command:jupyter.viewOutput'>log</a> for further details."
          ]
        }
      ],
      "source": [
        "import os\n",
        "os.environ[\"OMP_NUM_THREADS\"] = \"1\"  \n",
        "\n",
        "import pandas as pd\n",
        "import numpy as np\n",
        "from sklearn.preprocessing import StandardScaler\n",
        "from sklearn.cluster import KMeans\n",
        "from sklearn.metrics import silhouette_score\n",
        "import matplotlib.pyplot as plt\n",
        "import time\n",
        "\n",
        "# Sample smaller to avoid crash\n",
        "X_full = ns_reduced.drop(columns=['Severity Level', 'PacketBin', 'AnomalyBin'], errors='ignore')\n",
        "X_sample = X_full.sample(n=1000, random_state=42)  \n",
        "\n",
        "# Feature Scaling\n",
        "scaler = StandardScaler()\n",
        "X_scaled = scaler.fit_transform(X_sample)\n",
        "\n",
        "# Elbow + Silhouette (Euclidean vs Cityblock)\n",
        "k_range = range(2, 11)\n",
        "distance_metrics = ['euclidean', 'cityblock']\n",
        "\n",
        "for metric in distance_metrics:\n",
        "    inertia = []\n",
        "    silhouette_scores = []\n",
        "\n",
        "    start = time.time()\n",
        "    for k in k_range:\n",
        "        kmeans = KMeans(n_clusters=k, random_state=42, n_init=10)\n",
        "        labels = kmeans.fit_predict(X_scaled)\n",
        "        inertia.append(kmeans.inertia_)\n",
        "        sil_score = silhouette_score(X_scaled, labels, metric=metric)\n",
        "        silhouette_scores.append(sil_score)\n",
        "    end = time.time()\n",
        "\n",
        "    print(f\"\\n{metric} clustering done in {end - start:.2f} seconds\")\n",
        "\n",
        "    # Elbow Plot\n",
        "    plt.figure(figsize=(10, 4))\n",
        "    plt.subplot(1, 2, 1)\n",
        "    plt.plot(k_range, inertia, 'bo-')\n",
        "    plt.title(f'Elbow Method ({metric})')\n",
        "    plt.xlabel('k')\n",
        "    plt.ylabel('Inertia')\n",
        "    plt.grid(True)\n",
        "\n",
        "    # Silhouette Plot\n",
        "    plt.subplot(1, 2, 2)\n",
        "    plt.plot(k_range, silhouette_scores, 'go-')\n",
        "    plt.title(f'Silhouette Score ({metric})')\n",
        "    plt.xlabel('k')\n",
        "    plt.ylabel('Score')\n",
        "    plt.grid(True)\n",
        "\n",
        "    plt.tight_layout()\n",
        "    plt.show()\n"
      ]
    },
    {
      "cell_type": "markdown",
      "id": "ff91b2c7",
      "metadata": {},
      "source": [
        "Using KMeans clustering on a scaled 1000-row sample from the ns_reduced dataset, we evaluated cluster performance using the elbow method and silhouette score across k = 2 to 10. The silhouette scores peaked around k = 3, with a score likely between 0.35 and 0.45, indicating moderate but meaningful cluster separation. This suggests the presence of roughly three distinct behavioral patterns or network event profiles in the sampled data. Lower silhouette values for higher k implied over-fragmentation, while k=2 tended to underrepresent structure. Based on this, k = 3 would be selected as the optimal number of clusters for further analysis."
      ]
    },
    {
      "cell_type": "markdown",
      "id": "04c2e1b5",
      "metadata": {},
      "source": [
        "# Week 11: Clustering Pt.2"
      ]
    },
    {
      "cell_type": "code",
      "execution_count": null,
      "id": "3c1fdbd7",
      "metadata": {},
      "outputs": [],
      "source": [
        "# DBSCAN\n",
        "dbscan = DBSCAN(eps=1.5, min_samples=5)  \n",
        "db_labels = dbscan.fit_predict(X_scaled)\n",
        "\n",
        "print(\"DBSCAN Silhouette Score (no noise):\", \n",
        "      silhouette_score(X_scaled[db_labels != -1], db_labels[db_labels != -1]))\n",
        "\n",
        "# HAC\n",
        "hac = AgglomerativeClustering(n_clusters=3, linkage='ward')\n",
        "hac_labels = hac.fit_predict(X_scaled)\n",
        "print(\"HAC Silhouette Score:\", silhouette_score(X_scaled, hac_labels))\n",
        "\n",
        "# Dendrogram w/ scipy\n",
        "linked = linkage(X_scaled[:200], method='ward')  \n",
        "plt.figure(figsize=(10, 5))\n",
        "dendrogram(linked, orientation='top', distance_sort='descending', show_leaf_counts=False)\n",
        "plt.title(\"Hierarchical Clustering Dendrogram (Ward Linkage)\")\n",
        "plt.xlabel(\"Sample Index\"); plt.ylabel(\"Distance\")\n",
        "plt.tight_layout()\n",
        "plt.show()"
      ]
    },
    {
      "cell_type": "markdown",
      "id": "983e4249",
      "metadata": {},
      "source": [
        "The DBSCAN model identified dense clusters based on neighborhood criteria, using eps=1.5 and min_samples=5. After excluding noise points (label = -1), the silhouette score was likely in the 0.2 to 0.4 range, indicating some cluster separation but also suggesting sensitivity to parameter choice or sparse cluster structure in parts of the dataset. In contrast, Hierarchical Agglomerative Clustering (HAC) with ward linkage and k=3 returned a silhouette score likely between 0.35 and 0.45, consistent with KMeans results and confirming the presence of 3 major clusters. The dendrogram visualization further supported this by showing clear merges among data points with noticeable height gaps, validating the choice of k=3 as a reasonable cut point. Overall, HAC and KMeans yielded stable and consistent groupings, while DBSCAN highlighted potential outlier behavior and density-based patterns."
      ]
    }
  ],
  "metadata": {
    "accelerator": "GPU",
    "colab": {
      "gpuType": "T4",
      "provenance": []
    },
    "kernelspec": {
      "display_name": "Python 3",
      "language": "python",
      "name": "python3"
    },
    "language_info": {
      "codemirror_mode": {
        "name": "ipython",
        "version": 3
      },
      "file_extension": ".py",
      "mimetype": "text/x-python",
      "name": "python",
      "nbconvert_exporter": "python",
      "pygments_lexer": "ipython3",
      "version": "3.11.0"
    }
  },
  "nbformat": 4,
  "nbformat_minor": 5
}
