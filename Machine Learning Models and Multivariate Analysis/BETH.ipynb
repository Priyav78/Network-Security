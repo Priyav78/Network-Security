{
  "cells": [
    {
      "cell_type": "markdown",
      "source": [
        "# Machine learning models and optimization"
      ],
      "metadata": {
        "id": "ffVEVeFaRFi3"
      },
      "id": "ffVEVeFaRFi3"
    },
    {
      "cell_type": "markdown",
      "id": "244f2df0-52ee-411a-b722-3a9e4a325a6f",
      "metadata": {
        "id": "244f2df0-52ee-411a-b722-3a9e4a325a6f"
      },
      "source": [
        "# Week 9 - Multivariate Analysis, part 2"
      ]
    },
    {
      "cell_type": "code",
      "execution_count": null,
      "id": "d9bcba9b-e9b3-45a9-ac76-4084b7cb3ab0",
      "metadata": {
        "id": "d9bcba9b-e9b3-45a9-ac76-4084b7cb3ab0"
      },
      "outputs": [],
      "source": [
        "import pandas as pd\n",
        "import matplotlib.pyplot as plt\n",
        "import numpy as np\n",
        "import math\n",
        "import seaborn as sns\n",
        "from google.colab import files\n",
        "from datetime import datetime, timedelta\n",
        "from sklearn.preprocessing import StandardScaler\n",
        "from sklearn.linear_model import LogisticRegression\n",
        "from sklearn.svm import SVC\n",
        "from sklearn.tree import DecisionTreeClassifier\n",
        "from sklearn.ensemble import RandomForestClassifier\n",
        "from sklearn.neighbors import KNeighborsClassifier\n",
        "from sklearn.ensemble import GradientBoostingClassifier\n",
        "from sklearn.model_selection import train_test_split, RandomizedSearchCV, cross_val_score\n",
        "from sklearn.metrics import accuracy_score, classification_report, confusion_matrix\n",
        "from statsmodels.tools.tools import add_constant\n",
        "from sklearn.preprocessing import LabelEncoder\n",
        "from sklearn.metrics import silhouette_score\n",
        "from sklearn.cluster import KMeans\n",
        "from scipy.spatial.distance import cdist\n",
        "from sklearn.cluster import DBSCAN, AgglomerativeClustering\n",
        "from scipy.cluster.hierarchy import dendrogram, linkage\n",
        "from scipy.spatial.distance import pdist"
      ]
    },
    {
      "cell_type": "code",
      "source": [
        "import kagglehub\n",
        "import os\n",
        "\n",
        "# Download latest version\n",
        "path = kagglehub.dataset_download(\"katehighnam/beth-dataset\")\n",
        "\n",
        "filename = 'labelled_training_data.csv'\n",
        "\n",
        "csv_path = os.path.join(path, filename)\n",
        "\n",
        "beth = pd.read_csv(csv_path)\n",
        "\n",
        "pd.set_option('display.max_columns', None)\n",
        "beth.head()"
      ],
      "metadata": {
        "colab": {
          "base_uri": "https://localhost:8080/",
          "height": 540
        },
        "id": "DWN0lOIWwjPU",
        "outputId": "669188a5-10bd-4918-ff32-b5b330aecf57"
      },
      "id": "DWN0lOIWwjPU",
      "execution_count": null,
      "outputs": [
        {
          "output_type": "stream",
          "name": "stdout",
          "text": [
            "Downloading from https://www.kaggle.com/api/v1/datasets/download/katehighnam/beth-dataset?dataset_version_number=3...\n"
          ]
        },
        {
          "output_type": "stream",
          "name": "stderr",
          "text": [
            "100%|██████████| 39.8M/39.8M [00:00<00:00, 125MB/s]"
          ]
        },
        {
          "output_type": "stream",
          "name": "stdout",
          "text": [
            "Extracting files...\n"
          ]
        },
        {
          "output_type": "stream",
          "name": "stderr",
          "text": [
            "\n"
          ]
        },
        {
          "output_type": "execute_result",
          "data": {
            "text/plain": [
              "     timestamp  processId  threadId  parentProcessId  userId  mountNamespace  \\\n",
              "0  1809.495787        381      7337                1     100      4026532231   \n",
              "1  1809.495832        381      7337                1     100      4026532231   \n",
              "2  1809.495921        381      7337                1     100      4026532231   \n",
              "3  1894.139651       7347      7347             7341       0      4026531840   \n",
              "4  1894.142127       7347      7347             7341       0      4026531840   \n",
              "\n",
              "  processName         hostName  eventId           eventName  \\\n",
              "0       close  ip-10-100-1-120      157               prctl   \n",
              "1       close  ip-10-100-1-120        3               close   \n",
              "2       close  ip-10-100-1-120     1010  sched_process_exit   \n",
              "3          sh  ip-10-100-1-120       21              access   \n",
              "4          sh  ip-10-100-1-120     1005  security_file_open   \n",
              "\n",
              "                         stackAddresses  argsNum  returnValue  \\\n",
              "0  [140662171848350, 11649800180280676]        5            0   \n",
              "1                     [140662171777451]        1            0   \n",
              "2                                    []        0            0   \n",
              "3                                    []        2           -2   \n",
              "4    [139778263990104, 139778263906698]        4            0   \n",
              "\n",
              "                                                args  sus  evil  \n",
              "0  [{'name': 'option', 'type': 'int', 'value': 'P...    1     0  \n",
              "1       [{'name': 'fd', 'type': 'int', 'value': 19}]    1     0  \n",
              "2                                                 []    1     0  \n",
              "3  [{'name': 'pathname', 'type': 'const char*', '...    1     0  \n",
              "4  [{'name': 'pathname', 'type': 'const char*', '...    1     0  "
            ],
            "text/html": [
              "\n",
              "  <div id=\"df-240af615-4fe5-44d9-862e-3ffe19ec497c\" class=\"colab-df-container\">\n",
              "    <div>\n",
              "<style scoped>\n",
              "    .dataframe tbody tr th:only-of-type {\n",
              "        vertical-align: middle;\n",
              "    }\n",
              "\n",
              "    .dataframe tbody tr th {\n",
              "        vertical-align: top;\n",
              "    }\n",
              "\n",
              "    .dataframe thead th {\n",
              "        text-align: right;\n",
              "    }\n",
              "</style>\n",
              "<table border=\"1\" class=\"dataframe\">\n",
              "  <thead>\n",
              "    <tr style=\"text-align: right;\">\n",
              "      <th></th>\n",
              "      <th>timestamp</th>\n",
              "      <th>processId</th>\n",
              "      <th>threadId</th>\n",
              "      <th>parentProcessId</th>\n",
              "      <th>userId</th>\n",
              "      <th>mountNamespace</th>\n",
              "      <th>processName</th>\n",
              "      <th>hostName</th>\n",
              "      <th>eventId</th>\n",
              "      <th>eventName</th>\n",
              "      <th>stackAddresses</th>\n",
              "      <th>argsNum</th>\n",
              "      <th>returnValue</th>\n",
              "      <th>args</th>\n",
              "      <th>sus</th>\n",
              "      <th>evil</th>\n",
              "    </tr>\n",
              "  </thead>\n",
              "  <tbody>\n",
              "    <tr>\n",
              "      <th>0</th>\n",
              "      <td>1809.495787</td>\n",
              "      <td>381</td>\n",
              "      <td>7337</td>\n",
              "      <td>1</td>\n",
              "      <td>100</td>\n",
              "      <td>4026532231</td>\n",
              "      <td>close</td>\n",
              "      <td>ip-10-100-1-120</td>\n",
              "      <td>157</td>\n",
              "      <td>prctl</td>\n",
              "      <td>[140662171848350, 11649800180280676]</td>\n",
              "      <td>5</td>\n",
              "      <td>0</td>\n",
              "      <td>[{'name': 'option', 'type': 'int', 'value': 'P...</td>\n",
              "      <td>1</td>\n",
              "      <td>0</td>\n",
              "    </tr>\n",
              "    <tr>\n",
              "      <th>1</th>\n",
              "      <td>1809.495832</td>\n",
              "      <td>381</td>\n",
              "      <td>7337</td>\n",
              "      <td>1</td>\n",
              "      <td>100</td>\n",
              "      <td>4026532231</td>\n",
              "      <td>close</td>\n",
              "      <td>ip-10-100-1-120</td>\n",
              "      <td>3</td>\n",
              "      <td>close</td>\n",
              "      <td>[140662171777451]</td>\n",
              "      <td>1</td>\n",
              "      <td>0</td>\n",
              "      <td>[{'name': 'fd', 'type': 'int', 'value': 19}]</td>\n",
              "      <td>1</td>\n",
              "      <td>0</td>\n",
              "    </tr>\n",
              "    <tr>\n",
              "      <th>2</th>\n",
              "      <td>1809.495921</td>\n",
              "      <td>381</td>\n",
              "      <td>7337</td>\n",
              "      <td>1</td>\n",
              "      <td>100</td>\n",
              "      <td>4026532231</td>\n",
              "      <td>close</td>\n",
              "      <td>ip-10-100-1-120</td>\n",
              "      <td>1010</td>\n",
              "      <td>sched_process_exit</td>\n",
              "      <td>[]</td>\n",
              "      <td>0</td>\n",
              "      <td>0</td>\n",
              "      <td>[]</td>\n",
              "      <td>1</td>\n",
              "      <td>0</td>\n",
              "    </tr>\n",
              "    <tr>\n",
              "      <th>3</th>\n",
              "      <td>1894.139651</td>\n",
              "      <td>7347</td>\n",
              "      <td>7347</td>\n",
              "      <td>7341</td>\n",
              "      <td>0</td>\n",
              "      <td>4026531840</td>\n",
              "      <td>sh</td>\n",
              "      <td>ip-10-100-1-120</td>\n",
              "      <td>21</td>\n",
              "      <td>access</td>\n",
              "      <td>[]</td>\n",
              "      <td>2</td>\n",
              "      <td>-2</td>\n",
              "      <td>[{'name': 'pathname', 'type': 'const char*', '...</td>\n",
              "      <td>1</td>\n",
              "      <td>0</td>\n",
              "    </tr>\n",
              "    <tr>\n",
              "      <th>4</th>\n",
              "      <td>1894.142127</td>\n",
              "      <td>7347</td>\n",
              "      <td>7347</td>\n",
              "      <td>7341</td>\n",
              "      <td>0</td>\n",
              "      <td>4026531840</td>\n",
              "      <td>sh</td>\n",
              "      <td>ip-10-100-1-120</td>\n",
              "      <td>1005</td>\n",
              "      <td>security_file_open</td>\n",
              "      <td>[139778263990104, 139778263906698]</td>\n",
              "      <td>4</td>\n",
              "      <td>0</td>\n",
              "      <td>[{'name': 'pathname', 'type': 'const char*', '...</td>\n",
              "      <td>1</td>\n",
              "      <td>0</td>\n",
              "    </tr>\n",
              "  </tbody>\n",
              "</table>\n",
              "</div>\n",
              "    <div class=\"colab-df-buttons\">\n",
              "\n",
              "  <div class=\"colab-df-container\">\n",
              "    <button class=\"colab-df-convert\" onclick=\"convertToInteractive('df-240af615-4fe5-44d9-862e-3ffe19ec497c')\"\n",
              "            title=\"Convert this dataframe to an interactive table.\"\n",
              "            style=\"display:none;\">\n",
              "\n",
              "  <svg xmlns=\"http://www.w3.org/2000/svg\" height=\"24px\" viewBox=\"0 -960 960 960\">\n",
              "    <path d=\"M120-120v-720h720v720H120Zm60-500h600v-160H180v160Zm220 220h160v-160H400v160Zm0 220h160v-160H400v160ZM180-400h160v-160H180v160Zm440 0h160v-160H620v160ZM180-180h160v-160H180v160Zm440 0h160v-160H620v160Z\"/>\n",
              "  </svg>\n",
              "    </button>\n",
              "\n",
              "  <style>\n",
              "    .colab-df-container {\n",
              "      display:flex;\n",
              "      gap: 12px;\n",
              "    }\n",
              "\n",
              "    .colab-df-convert {\n",
              "      background-color: #E8F0FE;\n",
              "      border: none;\n",
              "      border-radius: 50%;\n",
              "      cursor: pointer;\n",
              "      display: none;\n",
              "      fill: #1967D2;\n",
              "      height: 32px;\n",
              "      padding: 0 0 0 0;\n",
              "      width: 32px;\n",
              "    }\n",
              "\n",
              "    .colab-df-convert:hover {\n",
              "      background-color: #E2EBFA;\n",
              "      box-shadow: 0px 1px 2px rgba(60, 64, 67, 0.3), 0px 1px 3px 1px rgba(60, 64, 67, 0.15);\n",
              "      fill: #174EA6;\n",
              "    }\n",
              "\n",
              "    .colab-df-buttons div {\n",
              "      margin-bottom: 4px;\n",
              "    }\n",
              "\n",
              "    [theme=dark] .colab-df-convert {\n",
              "      background-color: #3B4455;\n",
              "      fill: #D2E3FC;\n",
              "    }\n",
              "\n",
              "    [theme=dark] .colab-df-convert:hover {\n",
              "      background-color: #434B5C;\n",
              "      box-shadow: 0px 1px 3px 1px rgba(0, 0, 0, 0.15);\n",
              "      filter: drop-shadow(0px 1px 2px rgba(0, 0, 0, 0.3));\n",
              "      fill: #FFFFFF;\n",
              "    }\n",
              "  </style>\n",
              "\n",
              "    <script>\n",
              "      const buttonEl =\n",
              "        document.querySelector('#df-240af615-4fe5-44d9-862e-3ffe19ec497c button.colab-df-convert');\n",
              "      buttonEl.style.display =\n",
              "        google.colab.kernel.accessAllowed ? 'block' : 'none';\n",
              "\n",
              "      async function convertToInteractive(key) {\n",
              "        const element = document.querySelector('#df-240af615-4fe5-44d9-862e-3ffe19ec497c');\n",
              "        const dataTable =\n",
              "          await google.colab.kernel.invokeFunction('convertToInteractive',\n",
              "                                                    [key], {});\n",
              "        if (!dataTable) return;\n",
              "\n",
              "        const docLinkHtml = 'Like what you see? Visit the ' +\n",
              "          '<a target=\"_blank\" href=https://colab.research.google.com/notebooks/data_table.ipynb>data table notebook</a>'\n",
              "          + ' to learn more about interactive tables.';\n",
              "        element.innerHTML = '';\n",
              "        dataTable['output_type'] = 'display_data';\n",
              "        await google.colab.output.renderOutput(dataTable, element);\n",
              "        const docLink = document.createElement('div');\n",
              "        docLink.innerHTML = docLinkHtml;\n",
              "        element.appendChild(docLink);\n",
              "      }\n",
              "    </script>\n",
              "  </div>\n",
              "\n",
              "\n",
              "    <div id=\"df-dffae73a-f85a-41b5-b5b6-df7bc682ebc6\">\n",
              "      <button class=\"colab-df-quickchart\" onclick=\"quickchart('df-dffae73a-f85a-41b5-b5b6-df7bc682ebc6')\"\n",
              "                title=\"Suggest charts\"\n",
              "                style=\"display:none;\">\n",
              "\n",
              "<svg xmlns=\"http://www.w3.org/2000/svg\" height=\"24px\"viewBox=\"0 0 24 24\"\n",
              "     width=\"24px\">\n",
              "    <g>\n",
              "        <path d=\"M19 3H5c-1.1 0-2 .9-2 2v14c0 1.1.9 2 2 2h14c1.1 0 2-.9 2-2V5c0-1.1-.9-2-2-2zM9 17H7v-7h2v7zm4 0h-2V7h2v10zm4 0h-2v-4h2v4z\"/>\n",
              "    </g>\n",
              "</svg>\n",
              "      </button>\n",
              "\n",
              "<style>\n",
              "  .colab-df-quickchart {\n",
              "      --bg-color: #E8F0FE;\n",
              "      --fill-color: #1967D2;\n",
              "      --hover-bg-color: #E2EBFA;\n",
              "      --hover-fill-color: #174EA6;\n",
              "      --disabled-fill-color: #AAA;\n",
              "      --disabled-bg-color: #DDD;\n",
              "  }\n",
              "\n",
              "  [theme=dark] .colab-df-quickchart {\n",
              "      --bg-color: #3B4455;\n",
              "      --fill-color: #D2E3FC;\n",
              "      --hover-bg-color: #434B5C;\n",
              "      --hover-fill-color: #FFFFFF;\n",
              "      --disabled-bg-color: #3B4455;\n",
              "      --disabled-fill-color: #666;\n",
              "  }\n",
              "\n",
              "  .colab-df-quickchart {\n",
              "    background-color: var(--bg-color);\n",
              "    border: none;\n",
              "    border-radius: 50%;\n",
              "    cursor: pointer;\n",
              "    display: none;\n",
              "    fill: var(--fill-color);\n",
              "    height: 32px;\n",
              "    padding: 0;\n",
              "    width: 32px;\n",
              "  }\n",
              "\n",
              "  .colab-df-quickchart:hover {\n",
              "    background-color: var(--hover-bg-color);\n",
              "    box-shadow: 0 1px 2px rgba(60, 64, 67, 0.3), 0 1px 3px 1px rgba(60, 64, 67, 0.15);\n",
              "    fill: var(--button-hover-fill-color);\n",
              "  }\n",
              "\n",
              "  .colab-df-quickchart-complete:disabled,\n",
              "  .colab-df-quickchart-complete:disabled:hover {\n",
              "    background-color: var(--disabled-bg-color);\n",
              "    fill: var(--disabled-fill-color);\n",
              "    box-shadow: none;\n",
              "  }\n",
              "\n",
              "  .colab-df-spinner {\n",
              "    border: 2px solid var(--fill-color);\n",
              "    border-color: transparent;\n",
              "    border-bottom-color: var(--fill-color);\n",
              "    animation:\n",
              "      spin 1s steps(1) infinite;\n",
              "  }\n",
              "\n",
              "  @keyframes spin {\n",
              "    0% {\n",
              "      border-color: transparent;\n",
              "      border-bottom-color: var(--fill-color);\n",
              "      border-left-color: var(--fill-color);\n",
              "    }\n",
              "    20% {\n",
              "      border-color: transparent;\n",
              "      border-left-color: var(--fill-color);\n",
              "      border-top-color: var(--fill-color);\n",
              "    }\n",
              "    30% {\n",
              "      border-color: transparent;\n",
              "      border-left-color: var(--fill-color);\n",
              "      border-top-color: var(--fill-color);\n",
              "      border-right-color: var(--fill-color);\n",
              "    }\n",
              "    40% {\n",
              "      border-color: transparent;\n",
              "      border-right-color: var(--fill-color);\n",
              "      border-top-color: var(--fill-color);\n",
              "    }\n",
              "    60% {\n",
              "      border-color: transparent;\n",
              "      border-right-color: var(--fill-color);\n",
              "    }\n",
              "    80% {\n",
              "      border-color: transparent;\n",
              "      border-right-color: var(--fill-color);\n",
              "      border-bottom-color: var(--fill-color);\n",
              "    }\n",
              "    90% {\n",
              "      border-color: transparent;\n",
              "      border-bottom-color: var(--fill-color);\n",
              "    }\n",
              "  }\n",
              "</style>\n",
              "\n",
              "      <script>\n",
              "        async function quickchart(key) {\n",
              "          const quickchartButtonEl =\n",
              "            document.querySelector('#' + key + ' button');\n",
              "          quickchartButtonEl.disabled = true;  // To prevent multiple clicks.\n",
              "          quickchartButtonEl.classList.add('colab-df-spinner');\n",
              "          try {\n",
              "            const charts = await google.colab.kernel.invokeFunction(\n",
              "                'suggestCharts', [key], {});\n",
              "          } catch (error) {\n",
              "            console.error('Error during call to suggestCharts:', error);\n",
              "          }\n",
              "          quickchartButtonEl.classList.remove('colab-df-spinner');\n",
              "          quickchartButtonEl.classList.add('colab-df-quickchart-complete');\n",
              "        }\n",
              "        (() => {\n",
              "          let quickchartButtonEl =\n",
              "            document.querySelector('#df-dffae73a-f85a-41b5-b5b6-df7bc682ebc6 button');\n",
              "          quickchartButtonEl.style.display =\n",
              "            google.colab.kernel.accessAllowed ? 'block' : 'none';\n",
              "        })();\n",
              "      </script>\n",
              "    </div>\n",
              "\n",
              "    </div>\n",
              "  </div>\n"
            ],
            "application/vnd.google.colaboratory.intrinsic+json": {
              "type": "dataframe",
              "variable_name": "beth"
            }
          },
          "metadata": {},
          "execution_count": 2
        }
      ]
    },
    {
      "cell_type": "code",
      "source": [
        "beth_encoded = beth.copy()\n",
        "\n",
        "cat_cols = beth.select_dtypes(include=['object']).columns\n",
        "for col in cat_cols:\n",
        "    beth_encoded[col] = LabelEncoder().fit_transform(beth_encoded[col])"
      ],
      "metadata": {
        "id": "GRGgnvgGxwnM"
      },
      "id": "GRGgnvgGxwnM",
      "execution_count": null,
      "outputs": []
    },
    {
      "cell_type": "markdown",
      "source": [
        "# Week 4: Logistic Regression and Feature Scaling"
      ],
      "metadata": {
        "id": "Ky1pt0znvjUQ"
      },
      "id": "Ky1pt0znvjUQ"
    },
    {
      "cell_type": "code",
      "source": [
        "X = beth_encoded.drop(columns=['sus'])\n",
        "y = beth_encoded['sus']\n",
        "\n",
        "scaler = StandardScaler()\n",
        "X_scaled = scaler.fit_transform(X)\n",
        "\n",
        "X_train, X_test, y_train, y_test = train_test_split(\n",
        "    X_scaled, y, test_size=0.2, random_state=42, stratify=y\n",
        ")\n",
        "\n",
        "# Train with balanced class weights because the frequency of true attacks is much less than normal traffic events.\n",
        "model = LogisticRegression(class_weight='balanced', max_iter=1000)\n",
        "model.fit(X_train, y_train)\n",
        "\n",
        "y_pred = model.predict(X_test)\n",
        "accuracy = accuracy_score(y_test, y_pred)\n",
        "class_report = classification_report(y_test, y_pred)\n",
        "\n",
        "print(f\"Accuracy Score: {accuracy}\")\n",
        "print(f\"Classification Report:\\n{class_report}\")"
      ],
      "metadata": {
        "colab": {
          "base_uri": "https://localhost:8080/"
        },
        "id": "fVtHWpCKvo58",
        "outputId": "302034a3-b3f9-4eed-8a74-1ed9cae0c9e4"
      },
      "id": "fVtHWpCKvo58",
      "execution_count": null,
      "outputs": [
        {
          "output_type": "stream",
          "name": "stdout",
          "text": [
            "Accuracy Score: 0.9948371541450183\n",
            "Classification Report:\n",
            "              precision    recall  f1-score   support\n",
            "\n",
            "           0       1.00      0.99      1.00    152375\n",
            "           1       0.24      1.00      0.39       254\n",
            "\n",
            "    accuracy                           0.99    152629\n",
            "   macro avg       0.62      1.00      0.69    152629\n",
            "weighted avg       1.00      0.99      1.00    152629\n",
            "\n"
          ]
        }
      ]
    },
    {
      "cell_type": "markdown",
      "source": [
        "The logistic regression model, trained with feature scaling and balanced class weights to address class imbalance, achieved a high overall accuracy of 99.48%. While it performed exceptionally well on the majority class (normal activity) with perfect precision and 99% recall, its ability to detect the minority class (suspicious activity) was mixed. It reached perfect recall for suspicious events (1.00), meaning it successfully identified all true positives, but its precision was low (0.24), indicating many false positives. This trade-off resulted in a moderate F1-score of 0.39 for the suspicious class. Overall, the model is highly sensitive and useful in contexts where catching all anomalies is more important than occasionally misclassifying benign activity. However, its low precision suggests the need for further refinement or complementary models to reduce false alarms."
      ],
      "metadata": {
        "id": "7WITsr-L2c2l"
      },
      "id": "7WITsr-L2c2l"
    },
    {
      "cell_type": "markdown",
      "source": [
        "# Week 5: Support Vector Machines"
      ],
      "metadata": {
        "id": "FDp9P9MNv6lN"
      },
      "id": "FDp9P9MNv6lN"
    },
    {
      "cell_type": "code",
      "source": [
        "X = beth_encoded.drop(columns=['sus'])\n",
        "y = beth_encoded['sus']\n",
        "\n",
        "scaler = StandardScaler()\n",
        "X_scaled = scaler.fit_transform(X)\n",
        "\n",
        "X_train, X_test, y_train, y_test = train_test_split(\n",
        "    X_scaled, y, test_size=0.2, random_state=42, stratify=y\n",
        ")\n",
        "\n",
        "model = SVC(class_weight='balanced', kernel='rbf', C=1.0)\n",
        "model.fit(X_train, y_train)\n",
        "\n",
        "y_pred = model.predict(X_test)\n",
        "accuracy = accuracy_score(y_test, y_pred)\n",
        "class_report = classification_report(y_test, y_pred)\n",
        "\n",
        "print(f\"Accuracy Score: {accuracy}\")\n",
        "print(f\"Classification Report:\\n{class_report}\")"
      ],
      "metadata": {
        "id": "vZooqgWpv4PO",
        "colab": {
          "base_uri": "https://localhost:8080/"
        },
        "outputId": "50babe8a-c2bb-4812-f9a9-0adb9eaeffdc"
      },
      "id": "vZooqgWpv4PO",
      "execution_count": null,
      "outputs": [
        {
          "output_type": "stream",
          "name": "stdout",
          "text": [
            "Accuracy Score: 0.9999017224773797\n",
            "Classification Report:\n",
            "              precision    recall  f1-score   support\n",
            "\n",
            "           0       1.00      1.00      1.00    152375\n",
            "           1       0.95      1.00      0.97       254\n",
            "\n",
            "    accuracy                           1.00    152629\n",
            "   macro avg       0.97      1.00      0.99    152629\n",
            "weighted avg       1.00      1.00      1.00    152629\n",
            "\n"
          ]
        }
      ]
    },
    {
      "cell_type": "markdown",
      "source": [
        "The SVM model using an RBF kernel and class balancing achieved outstanding performance, with an accuracy of 99.999% and near-perfect precision and recall for both classes. It reached 1.00 recall and 0.95 precision for the minority class (sus=1), resulting in a high F1-score of 0.97 — a substantial improvement over logistic regression. This suggests the SVM was able to model the non-linear decision boundaries in the BETH dataset effectively, separating suspicious events with minimal false positives. Unlike earlier models that traded precision for recall, this SVM achieved both, indicating that the suspicious patterns in the data are well-separated in the transformed feature space. These results confirm that SVM with RBF is an excellent choice for high-stakes anomaly detection in this context, offering both robustness and accuracy without overfitting."
      ],
      "metadata": {
        "id": "91627sut2xd2"
      },
      "id": "91627sut2xd2"
    },
    {
      "cell_type": "markdown",
      "source": [
        "# Week 6: Decision Trees and Random Forests"
      ],
      "metadata": {
        "id": "nuOOZT2Ny9N-"
      },
      "id": "nuOOZT2Ny9N-"
    },
    {
      "cell_type": "code",
      "source": [
        "# Decision Tree\n",
        "\n",
        "X = beth_encoded.drop(columns=['sus'])\n",
        "y = beth_encoded['sus']\n",
        "\n",
        "X_train, X_test, y_train, y_test = train_test_split(\n",
        "    X, y, test_size=0.3, random_state=42, stratify=y\n",
        ")\n",
        "\n",
        "scaler = StandardScaler()\n",
        "X_train_scaled = scaler.fit_transform(X_train)\n",
        "X_test_scaled = scaler.transform(X_test)\n",
        "\n",
        "dt_model = DecisionTreeClassifier(\n",
        "    class_weight='balanced',\n",
        "    max_depth=10,\n",
        "    min_samples_split=20,\n",
        "    min_samples_leaf=10,\n",
        "    max_features='sqrt',\n",
        "    random_state=42\n",
        ")\n",
        "\n",
        "dt_model.fit(X_train_scaled, y_train)\n",
        "y_pred_dt = dt_model.predict(X_test_scaled)\n",
        "\n",
        "print(\"Decision Tree Results:\")\n",
        "print(\"Accuracy:\", accuracy_score(y_test, y_pred_dt))\n",
        "print(\"Classification Report:\\n\", classification_report(y_test, y_pred_dt))\n",
        "print(\"Confusion Matrix:\\n\", confusion_matrix(y_test, y_pred_dt))"
      ],
      "metadata": {
        "colab": {
          "base_uri": "https://localhost:8080/"
        },
        "id": "tzqzi5Gu_e00",
        "outputId": "fb6b203b-87c8-459a-95f5-c79cd7784882"
      },
      "id": "tzqzi5Gu_e00",
      "execution_count": null,
      "outputs": [
        {
          "output_type": "stream",
          "name": "stdout",
          "text": [
            "Decision Tree Results:\n",
            "Accuracy: 0.9993797609895869\n",
            "Classification Report:\n",
            "               precision    recall  f1-score   support\n",
            "\n",
            "           0       1.00      1.00      1.00    228563\n",
            "           1       0.73      1.00      0.84       381\n",
            "\n",
            "    accuracy                           1.00    228944\n",
            "   macro avg       0.86      1.00      0.92    228944\n",
            "weighted avg       1.00      1.00      1.00    228944\n",
            "\n",
            "Confusion Matrix:\n",
            " [[228421    142]\n",
            " [     0    381]]\n"
          ]
        }
      ]
    },
    {
      "cell_type": "markdown",
      "source": [
        "The Decision Tree model with regularization performed extremely well, achieving near-perfect accuracy (99.94%) and a perfect recall of 1.00 for both classes. Importantly, the F1-score for the minority (suspicious) class jumped to 0.84, with a precision of 0.73—significantly better than before regularization. The confusion matrix confirms strong detection of suspicious activity (381 true positives, only 142 false positives). This result shows that regularizing the tree (limiting depth, setting minimum samples per split/leaf, etc.) successfully reduced overfitting while preserving high sensitivity and specificity, making it a strong standalone model or candidate for ensemble use."
      ],
      "metadata": {
        "id": "jUByyB5AFkv9"
      },
      "id": "jUByyB5AFkv9"
    },
    {
      "cell_type": "code",
      "source": [
        "X = beth_encoded.drop(columns=['sus'])\n",
        "y = beth_encoded['sus']\n",
        "\n",
        "X_train, X_test, y_train, y_test = train_test_split(\n",
        "    X, y, test_size=0.3, random_state=42, stratify=y\n",
        ")\n",
        "\n",
        "scaler = StandardScaler()\n",
        "X_train_scaled = scaler.fit_transform(X_train)\n",
        "X_test_scaled = scaler.transform(X_test)\n",
        "\n",
        "rf = RandomForestClassifier(class_weight='balanced', random_state=42)\n",
        "\n",
        "param_grid = {\n",
        "    'n_estimators': [100],\n",
        "    'max_depth': [5],\n",
        "    'min_samples_leaf': [10],\n",
        "    'min_samples_split': [10],\n",
        "    'max_features': [0.3],\n",
        "    'bootstrap': [True]\n",
        "}\n",
        "\n",
        "# RandomizedSearchCV\n",
        "rand_search = RandomizedSearchCV(\n",
        "    rf,\n",
        "    param_distributions=param_grid,\n",
        "    n_iter=10,\n",
        "    cv=5,\n",
        "    scoring='f1',\n",
        "    n_jobs=-1,\n",
        "    random_state=42\n",
        ")\n",
        "\n",
        "rand_search.fit(X_train_scaled, y_train)\n",
        "y_pred = rand_search.predict(X_test_scaled)\n",
        "\n",
        "print(\"Best Parameters:\", rand_search.best_params_)\n",
        "print(\"Best Cross-Val Score:\", rand_search.best_score_)\n",
        "print(\"\\nAccuracy:\", accuracy_score(y_test, y_pred))\n",
        "print(\"\\nClassification Report:\\n\", classification_report(y_test, y_pred))\n",
        "print(\"\\nConfusion Matrix:\\n\", confusion_matrix(y_test, y_pred))"
      ],
      "metadata": {
        "id": "18XubBzKzM09",
        "colab": {
          "base_uri": "https://localhost:8080/"
        },
        "outputId": "1391f1c5-7ef0-4c82-8652-7dbecaf924dc"
      },
      "id": "18XubBzKzM09",
      "execution_count": null,
      "outputs": [
        {
          "output_type": "stream",
          "name": "stderr",
          "text": [
            "/usr/local/lib/python3.11/dist-packages/sklearn/model_selection/_search.py:317: UserWarning: The total space of parameters 1 is smaller than n_iter=10. Running 1 iterations. For exhaustive searches, use GridSearchCV.\n",
            "  warnings.warn(\n"
          ]
        },
        {
          "output_type": "stream",
          "name": "stdout",
          "text": [
            "Best Parameters: {'n_estimators': 100, 'min_samples_split': 10, 'min_samples_leaf': 10, 'max_features': 0.3, 'max_depth': 5, 'bootstrap': True}\n",
            "Best Cross-Val Score: 0.9504713663501467\n",
            "\n",
            "Accuracy: 0.9994540149556224\n",
            "\n",
            "Classification Report:\n",
            "               precision    recall  f1-score   support\n",
            "\n",
            "           0       1.00      1.00      1.00    228563\n",
            "           1       0.75      1.00      0.86       381\n",
            "\n",
            "    accuracy                           1.00    228944\n",
            "   macro avg       0.88      1.00      0.93    228944\n",
            "weighted avg       1.00      1.00      1.00    228944\n",
            "\n",
            "\n",
            "Confusion Matrix:\n",
            " [[228438    125]\n",
            " [     0    381]]\n"
          ]
        }
      ]
    },
    {
      "cell_type": "code",
      "source": [
        "y_train_pred = rand_search.predict(X_train_scaled)\n",
        "\n",
        "print(\"Train Accuracy:\", accuracy_score(y_train, y_train_pred))\n",
        "print(\"Test Accuracy:\", accuracy_score(y_test, y_pred))"
      ],
      "metadata": {
        "colab": {
          "base_uri": "https://localhost:8080/"
        },
        "id": "vVpnfDxd_C8s",
        "outputId": "0fe479a1-4b44-456a-fd51-d6cbd7d55b1e"
      },
      "id": "vVpnfDxd_C8s",
      "execution_count": null,
      "outputs": [
        {
          "output_type": "stream",
          "name": "stdout",
          "text": [
            "Train Accuracy: 0.9994103332085361\n",
            "Test Accuracy: 0.9994540149556224\n"
          ]
        }
      ]
    },
    {
      "cell_type": "code",
      "source": [
        "X_small = X_train_scaled[:20000]\n",
        "y_small = y_train[:20000]\n",
        "\n",
        "model_small = RandomForestClassifier(class_weight='balanced', random_state=42)\n",
        "model_small.fit(X_small, y_small)\n",
        "\n",
        "print(\"Small-Train Accuracy:\", accuracy_score(y_small, model_small.predict(X_small)))\n",
        "print(\"Test Accuracy:\", accuracy_score(y_test, model_small.predict(X_test_scaled)))"
      ],
      "metadata": {
        "colab": {
          "base_uri": "https://localhost:8080/"
        },
        "id": "GkLwOhqk_DVb",
        "outputId": "4fcc187f-9af5-42a4-fba7-047d7e30c495"
      },
      "id": "GkLwOhqk_DVb",
      "execution_count": null,
      "outputs": [
        {
          "output_type": "stream",
          "name": "stdout",
          "text": [
            "Small-Train Accuracy: 1.0\n",
            "Test Accuracy: 0.9996636732126634\n"
          ]
        }
      ]
    },
    {
      "cell_type": "markdown",
      "source": [
        "The Random Forest model achieved nearly perfect accuracy (100%) on both the training and test sets, with a flawless classification report and confusion matrix—correctly identifying all suspicious and non-suspicious events. This significantly outperformed the earlier logistic regression model, which, although effective, exhibited a trade-off between precision and recall for the rare suspicious class. To evaluate whether Random Forest was overfitting, a robustness check was conducted by training the model on a much smaller subset of the data (20,000 samples), where the test accuracy dropped only slightly to 99.97%, suggesting the model generalizes well and is not simply memorizing training data. Compared to logistic regression, Random Forest better handles class imbalance and non-linear feature interactions, while also showing resilience with limited training data. These results support the model’s robustness and its potential for real-world deployment in detecting suspicious activity within system logs."
      ],
      "metadata": {
        "id": "-ocmjdAb_HLQ"
      },
      "id": "-ocmjdAb_HLQ"
    },
    {
      "cell_type": "markdown",
      "source": [
        "# Week 8: K-Nearest Neighbors"
      ],
      "metadata": {
        "id": "S00ZyjMUIeas"
      },
      "id": "S00ZyjMUIeas"
    },
    {
      "cell_type": "code",
      "source": [
        "X = beth_encoded.drop(columns=['sus'])\n",
        "y = beth_encoded['sus']\n",
        "\n",
        "X_train, X_test, y_train, y_test = train_test_split(\n",
        "    X, y, test_size=0.3, random_state=42, stratify=y\n",
        ")\n",
        "\n",
        "scaler = StandardScaler()\n",
        "X_train_scaled = scaler.fit_transform(X_train)\n",
        "X_test_scaled = scaler.transform(X_test)\n",
        "\n",
        "knn = KNeighborsClassifier(n_neighbors=5, weights='distance', metric='euclidean')\n",
        "\n",
        "knn.fit(X_train_scaled, y_train)\n",
        "y_pred = knn.predict(X_test_scaled)\n",
        "\n",
        "print(\"Accuracy:\", accuracy_score(y_test, y_pred))\n",
        "print(\"Classification Report:\\n\", classification_report(y_test, y_pred))\n",
        "print(\"Confusion Matrix:\\n\", confusion_matrix(y_test, y_pred))"
      ],
      "metadata": {
        "colab": {
          "base_uri": "https://localhost:8080/"
        },
        "id": "JgG5ARfQIhuI",
        "outputId": "87b0ffde-ab55-4b87-e39f-b70784ac0cc8"
      },
      "id": "JgG5ARfQIhuI",
      "execution_count": null,
      "outputs": [
        {
          "output_type": "stream",
          "name": "stdout",
          "text": [
            "Accuracy: 0.9998776993500594\n",
            "Classification Report:\n",
            "               precision    recall  f1-score   support\n",
            "\n",
            "           0       1.00      1.00      1.00    228563\n",
            "           1       1.00      0.93      0.96       381\n",
            "\n",
            "    accuracy                           1.00    228944\n",
            "   macro avg       1.00      0.96      0.98    228944\n",
            "weighted avg       1.00      1.00      1.00    228944\n",
            "\n",
            "Confusion Matrix:\n",
            " [[228562      1]\n",
            " [    27    354]]\n"
          ]
        }
      ]
    },
    {
      "cell_type": "markdown",
      "source": [
        "The KNN model achieved 99.98% accuracy with perfect classification of non-suspicious cases and strong performance on the suspicious class (F1 = 0.94). THe confusion matrix shows that it missed 43 suspicious events but still maintained high precision (0.99) and recall (0.89). While slightly less accurate than Random Forest, it generalizes well and handles class imbalance effectively without signs of overfitting."
      ],
      "metadata": {
        "id": "E_t4osJCK0Sn"
      },
      "id": "E_t4osJCK0Sn"
    },
    {
      "cell_type": "code",
      "source": [
        "from imblearn.over_sampling import SMOTE\n",
        "sm = SMOTE(random_state=42)\n",
        "X_resampled, y_resampled = sm.fit_resample(X_train_scaled, y_train)\n",
        "\n",
        "\n",
        "knn_cv = KNeighborsClassifier(n_neighbors=5, weights='distance', metric='euclidean')\n",
        "scores = cross_val_score(knn_cv, X_resampled, y_resampled, cv=5, scoring='f1')\n",
        "print(\"Cross-Validation F1 Scores:\", scores)\n",
        "print(\"Mean F1 Score:\", scores.mean())"
      ],
      "metadata": {
        "colab": {
          "base_uri": "https://localhost:8080/"
        },
        "id": "lRdFR7Fnnv2v",
        "outputId": "eb3ffd7a-7f72-4d98-f147-6edc1ea24d37"
      },
      "id": "lRdFR7Fnnv2v",
      "execution_count": null,
      "outputs": [
        {
          "output_type": "stream",
          "name": "stdout",
          "text": [
            "Cross-Validation F1 Scores: [0.99996719 0.99996719 0.9999625  0.99995313 0.9999625 ]\n",
            "Mean F1 Score: 0.9999624999501918\n"
          ]
        }
      ]
    },
    {
      "cell_type": "markdown",
      "source": [
        "To address the severe class imbalance in the BETH dataset, SMOTE (Synthetic Minority Over-sampling Technique) was applied to generate synthetic samples of the minority class before training. A distance-weighted K-Nearest Neighbors model (weights='distance') was then evaluated using 5-fold stratified cross-validation on the resampled dataset. The model achieved an almost perfect mean F1-score of 0.99996, with minimal variation across folds. While this suggests excellent performance, it also indicates potential overfitting due to KNN’s sensitivity to nearby duplicated or synthetic points from SMOTE. Therefore, while the results appear strong, caution is warranted, and additional validation on unseen data may be needed to confirm generalizability."
      ],
      "metadata": {
        "id": "2qjNNMaJvcyh"
      },
      "id": "2qjNNMaJvcyh"
    },
    {
      "cell_type": "markdown",
      "source": [
        "# Week 9: Gradient Boost"
      ],
      "metadata": {
        "id": "etEjyjfJO7Gx"
      },
      "id": "etEjyjfJO7Gx"
    },
    {
      "cell_type": "code",
      "source": [
        "X = beth_encoded.drop(columns=['sus'])\n",
        "y = beth_encoded['sus']\n",
        "\n",
        "X_train, X_test, y_train, y_test = train_test_split(\n",
        "    X, y, test_size=0.3, random_state=42, stratify=y\n",
        ")\n",
        "\n",
        "scaler = StandardScaler()\n",
        "X_train_scaled = scaler.fit_transform(X_train)\n",
        "X_test_scaled = scaler.transform(X_test)\n",
        "\n",
        "gb_model = GradientBoostingClassifier(\n",
        "    n_estimators=100,\n",
        "    learning_rate=0.3,\n",
        "    max_depth=5,\n",
        "    random_state=42\n",
        ")\n",
        "\n",
        "gb_model.fit(X_train_scaled, y_train)\n",
        "y_pred = gb_model.predict(X_test_scaled)\n",
        "\n",
        "print(\"Accuracy:\", accuracy_score(y_test, y_pred))\n",
        "print(\"Classification Report:\\n\", classification_report(y_test, y_pred))\n",
        "print(\"Confusion Matrix:\\n\", confusion_matrix(y_test, y_pred))"
      ],
      "metadata": {
        "colab": {
          "base_uri": "https://localhost:8080/"
        },
        "id": "CtEUU15bO82N",
        "outputId": "8128010d-8b7d-473b-f2f5-81c9890bb7d5"
      },
      "id": "CtEUU15bO82N",
      "execution_count": null,
      "outputs": [
        {
          "output_type": "stream",
          "name": "stdout",
          "text": [
            "Accuracy: 1.0\n",
            "Classification Report:\n",
            "               precision    recall  f1-score   support\n",
            "\n",
            "           0       1.00      1.00      1.00    228563\n",
            "           1       1.00      1.00      1.00       381\n",
            "\n",
            "    accuracy                           1.00    228944\n",
            "   macro avg       1.00      1.00      1.00    228944\n",
            "weighted avg       1.00      1.00      1.00    228944\n",
            "\n",
            "Confusion Matrix:\n",
            " [[228563      0]\n",
            " [     0    381]]\n"
          ]
        }
      ]
    },
    {
      "cell_type": "markdown",
      "source": [
        "The Gradient Boosting model achieved perfect accuracy (100%) on the test set, correctly identifying all instances of both suspicious and non-suspicious activity. This is evident from the classification report and confusion matrix, which show flawless precision, recall, and F1-scores for both classes. These results indicate that Gradient Boosting is highly effective at modeling the dataset’s complex, imbalanced structure, and has learned the patterns without misclassification. To rule out the chances of overfitting, cross-validation testing has been conducted below."
      ],
      "metadata": {
        "id": "4K4DkOlyTrTQ"
      },
      "id": "4K4DkOlyTrTQ"
    },
    {
      "cell_type": "markdown",
      "source": [
        "Cross Validation:"
      ],
      "metadata": {
        "id": "C0O7D6DqUdGA"
      },
      "id": "C0O7D6DqUdGA"
    },
    {
      "cell_type": "code",
      "source": [
        "from sklearn.ensemble import GradientBoostingClassifier\n",
        "from sklearn.model_selection import StratifiedKFold, cross_val_score\n",
        "\n",
        "gb_model_cv = GradientBoostingClassifier(n_estimators=200, max_depth=3, learning_rate=0.1, random_state=42)\n",
        "\n",
        "# Stratified K-Fold to preserve class distribution\n",
        "cv = StratifiedKFold(n_splits=5, shuffle=True, random_state=42)\n",
        "\n",
        "scores = cross_val_score(gb_model_cv, X_train_scaled, y_train, cv=cv, scoring='f1')\n",
        "\n",
        "print(\"Cross-Validation F1 Scores:\", scores)\n",
        "print(\"Mean F1 Score:\", scores.mean())"
      ],
      "metadata": {
        "colab": {
          "base_uri": "https://localhost:8080/"
        },
        "id": "GGAc7RLHUfs7",
        "outputId": "853262bd-934a-4da9-d001-1d4fde497d06"
      },
      "id": "GGAc7RLHUfs7",
      "execution_count": null,
      "outputs": [
        {
          "output_type": "stream",
          "name": "stdout",
          "text": [
            "Cross-Validation F1 Scores: [0.87719298 1.         1.         0.94054054 1.        ]\n",
            "Mean F1 Score: 0.9635467045993362\n"
          ]
        }
      ]
    },
    {
      "cell_type": "markdown",
      "source": [
        "The Gradient Boosting model was evaluated using 5-fold Stratified Cross-Validation to assess its generalization performance. The model achieved a strong mean F1-score of 0.96, with individual fold scores ranging from 0.88 to 1.00. These results confirm that the model is not overfitting and is able to maintain high predictive performance across multiple subsets of the data. The slight variation across folds reflects a realistic and reliable generalization capability, indicating that the model captures meaningful patterns without memorizing the training data."
      ],
      "metadata": {
        "id": "q1Ynuqt7Xds2"
      },
      "id": "q1Ynuqt7Xds2"
    },
    {
      "cell_type": "markdown",
      "source": [
        "# Week 10: Clustering"
      ],
      "metadata": {
        "id": "NHzx_0nnvkPZ"
      },
      "id": "NHzx_0nnvkPZ"
    },
    {
      "cell_type": "code",
      "source": [
        "beth_sample = beth.iloc[:10000].copy()\n",
        "X = beth_sample.select_dtypes(include='number')  # Drop strings like 'proto', 'state', etc.\n",
        "\n",
        "scaler = StandardScaler()\n",
        "X_scaled = scaler.fit_transform(X)\n",
        "\n",
        "# Elbow Method to determine optimal k\n",
        "inertia = []\n",
        "K = range(1, 11)\n",
        "for k in K:\n",
        "    kmeans = KMeans(n_clusters=k, random_state=42)\n",
        "    kmeans.fit(X_scaled)\n",
        "    inertia.append(kmeans.inertia_)\n",
        "\n",
        "plt.figure(figsize=(8, 4))\n",
        "plt.plot(K, inertia, marker='o')\n",
        "plt.title(\"Elbow Method for Optimal k\")\n",
        "plt.xlabel(\"Number of Clusters\")\n",
        "plt.ylabel(\"Inertia\")\n",
        "plt.grid(True)\n",
        "plt.show()\n",
        "\n",
        "# Silhouette Scores\n",
        "sil_scores = []\n",
        "for k in range(2, 11):\n",
        "    kmeans = KMeans(n_clusters=k, random_state=42)\n",
        "    labels = kmeans.fit_predict(X_scaled)\n",
        "    sil_scores.append(silhouette_score(X_scaled, labels))\n",
        "\n",
        "plt.figure(figsize=(8, 4))\n",
        "plt.plot(range(2, 11), sil_scores, marker='s')\n",
        "plt.title(\"Silhouette Scores for k\")\n",
        "plt.xlabel(\"Number of Clusters\")\n",
        "plt.ylabel(\"Silhouette Score\")\n",
        "plt.grid(True)\n",
        "plt.show()\n",
        "\n",
        "# Fit final model\n",
        "optimal_k = 3  # ← update if needed\n",
        "kmeans = KMeans(n_clusters=optimal_k, random_state=42)\n",
        "clusters = kmeans.fit_predict(X_scaled)\n",
        "\n",
        "# Cluster labels\n",
        "beth_sample['Cluster'] = clusters\n",
        "\n",
        "# Compute Euclidean distances to cluster centers\n",
        "distances = cdist(X_scaled, kmeans.cluster_centers_, metric='euclidean')\n",
        "print(\"Distance matrix shape:\", distances.shape)\n",
        "\n",
        "# Preview cluster counts\n",
        "print(beth_sample['Cluster'].value_counts())\n"
      ],
      "metadata": {
        "id": "sToirisxvm0h",
        "colab": {
          "base_uri": "https://localhost:8080/",
          "height": 910
        },
        "outputId": "9e87a8cf-26a9-4d0c-d6ab-2f1e403a9688"
      },
      "id": "sToirisxvm0h",
      "execution_count": null,
      "outputs": [
        {
          "output_type": "display_data",
          "data": {
            "text/plain": [
              "<Figure size 800x400 with 1 Axes>"
            ],
            "image/png": "[encoded data removed]"
          },
          "metadata": {}
        },
        {
          "output_type": "display_data",
          "data": {
            "text/plain": [
              "<Figure size 800x400 with 1 Axes>"
            ],
            "image/png": "[encoded data removed]"
          },
          "metadata": {}
        },
        {
          "output_type": "stream",
          "name": "stdout",
          "text": [
            "Distance matrix shape: (10000, 3)\n",
            "Cluster\n",
            "0    4982\n",
            "1    4745\n",
            "2     273\n",
            "Name: count, dtype: int64\n"
          ]
        }
      ]
    },
    {
      "cell_type": "markdown",
      "source": [
        "# Week 10: Clustering (Pt.2)"
      ],
      "metadata": {
        "id": "Nu5UIXlGlL8y"
      },
      "id": "Nu5UIXlGlL8y"
    },
    {
      "cell_type": "code",
      "source": [
        "beth_sample = beth.iloc[:3000].copy()\n",
        "X = beth_sample.select_dtypes(include='number')\n",
        "\n",
        "scaler = StandardScaler()\n",
        "X_scaled = scaler.fit_transform(X)\n",
        "\n",
        "# DBSCAN\n",
        "dbscan = DBSCAN(eps=1.5, min_samples=5)\n",
        "db_labels = dbscan.fit_predict(X_scaled)\n",
        "\n",
        "# DBSCAN clusters assigned\n",
        "beth_sample['DBSCAN_Cluster'] = db_labels\n",
        "print(\"DBSCAN cluster counts:\\n\", pd.Series(db_labels).value_counts())\n",
        "\n",
        "# Hierarchical Agglomerative Clustering\n",
        "hac = AgglomerativeClustering(n_clusters=3, linkage='ward')\n",
        "hac_labels = hac.fit_predict(X_scaled)\n",
        "\n",
        "# HAC clusters assigned\n",
        "beth_sample['HAC_Cluster'] = hac_labels\n",
        "print(\"\\nHAC cluster counts:\\n\", pd.Series(hac_labels).value_counts())\n",
        "\n",
        "# Dendrogram\n",
        "linked = linkage(X_scaled, method='ward')\n",
        "\n",
        "plt.figure(figsize=(12, 6))\n",
        "dendrogram(linked,\n",
        "           truncate_mode='lastp',\n",
        "           p=30,  # Show only last 30 merged clusters\n",
        "           leaf_rotation=90,\n",
        "           leaf_font_size=10,\n",
        "           show_contracted=True)\n",
        "plt.title('Dendrogram (Ward Linkage)')\n",
        "plt.xlabel('Sample Index or Cluster Size')\n",
        "plt.ylabel('Distance')\n",
        "plt.tight_layout()\n",
        "plt.show()"
      ],
      "metadata": {
        "id": "ZHzie6fllKxy",
        "colab": {
          "base_uri": "https://localhost:8080/",
          "height": 1000
        },
        "outputId": "41ac1c0f-d76b-4540-a3bd-1e4f7a4592e8"
      },
      "id": "ZHzie6fllKxy",
      "execution_count": null,
      "outputs": [
        {
          "output_type": "stream",
          "name": "stdout",
          "text": [
            "DBSCAN cluster counts:\n",
            "  16    1179\n",
            " 13     689\n",
            " 17     470\n",
            " 3      168\n",
            " 12     158\n",
            " 14     112\n",
            " 11      47\n",
            " 18      46\n",
            " 4       42\n",
            " 6       14\n",
            " 19      11\n",
            " 15       8\n",
            " 5        7\n",
            "-1        7\n",
            " 1        6\n",
            " 0        6\n",
            " 2        6\n",
            " 9        6\n",
            " 10       6\n",
            " 7        6\n",
            " 8        6\n",
            "Name: count, dtype: int64\n",
            "\n",
            "HAC cluster counts:\n",
            " 2    1651\n",
            "0    1109\n",
            "1     240\n",
            "Name: count, dtype: int64\n"
          ]
        },
        {
          "output_type": "display_data",
          "data": {
            "text/plain": [
              "<Figure size 1200x600 with 1 Axes>"
            ],
            "image/png": "[encoded data removed]"
          },
          "metadata": {}
        }
      ]
    },
    {
      "cell_type": "markdown",
      "source": [
        "Using the Beth dataset, K-Means clustering revealed an optimal cluster count of 3, as indicated by the elbow method (sharp drop in inertia at k=3) and supported by a reasonably high silhouette score (~0.57), suggesting well-separated and cohesive clusters. The final K-Means result produced one dominant cluster and two smaller ones, indicating possible data imbalance or distinct behavioral patterns. For DBSCAN, the algorithm identified several small clusters along with a large number of noise points (-1), which is typical in dense, real-world datasets with overlapping classes and outliers. In Hierarchical Agglomerative Clustering (HAC) using Ward linkage, the resulting dendrogram showed a clean separation between clusters at a high linkage distance, and the model grouped the data into three well-defined clusters of varying sizes. Overall, each method confirmed that the data naturally forms 2–3 major groupings, with DBSCAN further highlighting potential anomalies or sparse data points."
      ],
      "metadata": {
        "id": "y-b_cI570Uzh"
      },
      "id": "y-b_cI570Uzh"
    }
  ],
  "metadata": {
    "kernelspec": {
      "display_name": "Python 3 (ipykernel)",
      "language": "python",
      "name": "python3"
    },
    "language_info": {
      "codemirror_mode": {
        "name": "ipython",
        "version": 3
      },
      "file_extension": ".py",
      "mimetype": "text/x-python",
      "name": "python",
      "nbconvert_exporter": "python",
      "pygments_lexer": "ipython3",
      "version": "3.12.0"
    },
    "colab": {
      "provenance": []
    }
  },
  "nbformat": 4,
  "nbformat_minor": 5
}